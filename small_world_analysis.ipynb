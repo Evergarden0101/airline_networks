{
 "cells": [
  {
   "cell_type": "code",
   "execution_count": null,
   "metadata": {
    "pycharm": {
     "name": "#%% have to resolve for basemap\n"
    }
   },
   "outputs": [],
   "source": [
    "# no longer needed with newer version\n",
    "#https://stackoverflow.com/a/52954738\n",
    "# path may (will) vary from user to user\n",
    "# import os\n",
    "#pascal:\n",
    "# os.environ['PROJ_LIB'] = '/Users/PascalUZH/opt/miniconda3/envs/myNewCondaEnv/share/proj'\n"
   ]
  },
  {
   "cell_type": "code",
   "execution_count": null,
   "metadata": {
    "pycharm": {
     "name": "#%%\n"
    }
   },
   "outputs": [],
   "source": [
    "import math\n",
    "import numpy as np\n",
    "import networkx as nx\n",
    "import networkx.algorithms.cluster as nx_clust\n",
    "import matplotlib.pyplot as plt\n"
   ]
  },
  {
   "cell_type": "code",
   "execution_count": null,
   "metadata": {
    "pycharm": {
     "name": "#%%\n"
    }
   },
   "outputs": [],
   "source": [
    "# read stored data from data_preparation notebook\n",
    "%store -r df_airports\n",
    "%store -r airports_dict\n",
    "%store -r df_merged\n",
    "\n",
    "G = nx.read_gml('Graphs/airlines.gml')\n"
   ]
  },
  {
   "cell_type": "code",
   "execution_count": null,
   "metadata": {
    "pycharm": {
     "name": "#%%\n"
    }
   },
   "outputs": [],
   "source": [
    "## metrics to be used in construction of null model\n",
    "# p := rewiring probability, element of [0, 1]\n",
    "#   http://www.scholarpedia.org/article/Small-world_network\n",
    "#       -> \"Because the WS model is define probabilistically for p ≠ 0, studying\n",
    "#           entails examining an ensemble of graphs for each p (for a fixed value of N).\n",
    "#           When one states a property of the WS model for a fixed set of parameter\n",
    "#           values (and with p ≠ 0), it is to be understood as a mean over an ensemble\n",
    "#           of graphs (aside from properties that are fixed a priori for each groph\n",
    "#           from the definition of the ensemble\"\n",
    "#   -> have to input a range of ps.\n",
    "#       - arbitrary choice: some large enough nr. of graphs, evenly spaced probabilities\n",
    "N = nx.number_of_nodes(G)\n",
    "avg_deg = nx.number_of_edges(G) / float(G.number_of_nodes())\n",
    "k = math.ceil(2 * avg_deg)\n",
    "p_range = np.linspace(0, 1, 100)"
   ]
  },
  {
   "cell_type": "markdown",
   "metadata": {
    "pycharm": {
     "name": "#%% md\n"
    }
   },
   "source": [
    "    build WS graphs over p-range,\n",
    "    calculate analytical solution (clustering coefficient -> not actually used in report),\n",
    "    track avg_shortest path and clustering"
   ]
  },
  {
   "cell_type": "code",
   "execution_count": null,
   "metadata": {
    "pycharm": {
     "name": "#%%\n"
    }
   },
   "outputs": [],
   "source": [
    "p_0 = 0\n",
    "clustering_0_analytical = (3/2) * ((k-1)/(2*k-1)) * np.power((1-p_0),3)\n",
    "clustering_0_observed = nx_clust.average_clustering(nx.watts_strogatz_graph(N, k, p_0))\n",
    "\n",
    "def avg_clustering_coefficient_analytical(p):\n",
    "    return (3/2) * ((k-1)/(2*k-1)) * np.power((1-p),3) / clustering_0_analytical\n",
    "\n",
    "clustering_per_p = []\n",
    "clustering_analytical_per_p = []\n",
    "avg_shortest_path_per_p = []\n",
    "\n",
    "\n",
    "for p in p_range:\n",
    "    # for each p in the defined list, we have to examine a\n",
    "    # specific watt-strogatz graph\n",
    "    G_WS = nx.watts_strogatz_graph(N, k, p)\n",
    "\n",
    "    avg_clust = nx_clust.average_clustering(G_WS) / clustering_0_observed\n",
    "    avg_clust_analytical = avg_clustering_coefficient_analytical(p)\n",
    "\n",
    "    clustering_per_p.append(avg_clust)\n",
    "    clustering_analytical_per_p.append(avg_clust_analytical)\n",
    "\n",
    "    # also calculate the average shortest path\n",
    "    avg_sp = nx.average_shortest_path_length(G_WS)\n",
    "    avg_shortest_path_per_p.append(avg_sp)"
   ]
  },
  {
   "cell_type": "code",
   "execution_count": null,
   "metadata": {
    "pycharm": {
     "name": "#%%\n"
    }
   },
   "outputs": [],
   "source": [
    "# plot for comparison\n",
    "\n",
    "fig1 = plt.figure(dpi=500)\n",
    "plt.rcParams[\"figure.figsize\"] = (10, 4)\n",
    "plt.plot(p_range, clustering_per_p, label=\"observed in WS model\")\n",
    "plt.plot(p_range, clustering_analytical_per_p, label=\"analytical result\", color='red', alpha=0.9)\n",
    "plt.xlabel('rewiring probability p')\n",
    "plt.ylabel('average clustering C(p)/C(0)')\n",
    "plt.title('Average clustering in the Watts-Strogatz model')\n",
    "plt.legend()\n",
    "plt.show()"
   ]
  },
  {
   "cell_type": "code",
   "execution_count": null,
   "metadata": {
    "pycharm": {
     "name": "#%%\n"
    }
   },
   "outputs": [],
   "source": [
    "# calculate average error (abs)\n",
    "err_clust_WS = list(np.abs(np.array(clustering_per_p)-np.array(clustering_analytical_per_p)))\n",
    "err_clust_WS_avg = sum(err_clust_WS)/len(err_clust_WS)\n",
    "print(f\"average error (abs) of WS model to analytical result: {err_clust_WS_avg}\")"
   ]
  },
  {
   "cell_type": "code",
   "execution_count": null,
   "metadata": {
    "pycharm": {
     "name": "#%%\n"
    }
   },
   "outputs": [],
   "source": [
    "# calculate small world property for air traffic graph\n",
    "# <d> ~ log N / log <k>\n",
    "\n",
    "def expected_small_world_path_length(N, avg_deg):\n",
    "    return np.log(N) / np.log(avg_deg)\n",
    "\n",
    "# create a list of disconnected nodes (breaks avg. shortest path length)\n",
    "# disconnected_nodes = list(nx.isolates(G))\n",
    "# avg_shortest_path = nx.average_shortest_path_length(G)\n",
    "\n",
    "# manually calculate avg. shortest path, because the nx.average_shortest_path_length does not\n",
    "# work for directed graphs\n",
    "shortest_path_per_node = list(nx.shortest_path_length(G))\n",
    "avg_shortest_path_per_node = []\n",
    "for node in shortest_path_per_node:\n",
    "    path_dict = node[1]\n",
    "    path_length_sum = 0\n",
    "    for _, v in path_dict.items():\n",
    "        path_length_sum += v\n",
    "    # if len = 1 the path_dict only contains the node itself with 0 length path entry.\n",
    "    # exclude those entries\n",
    "    if len(path_dict) != 1:\n",
    "        # subtract one, because the path_dict contains the node itself as well\n",
    "        avg_spl = path_length_sum / (len(path_dict)-1)\n",
    "        avg_shortest_path_per_node.append(avg_spl)\n",
    "avg_shortest_path = sum(avg_shortest_path_per_node) / len(avg_shortest_path_per_node)\n",
    "\n",
    "# calculate expected small world path length\n",
    "avg_shortest_path_expected = expected_small_world_path_length(N, avg_deg)"
   ]
  },
  {
   "cell_type": "code",
   "execution_count": null,
   "metadata": {
    "pycharm": {
     "name": "#%%\n"
    }
   },
   "outputs": [],
   "source": [
    "# also calculate the avg. avg. shortest path of the set of WS graphs for comparison\n",
    "# (yes, 'average average shortest path' is correct)\n",
    "avg_shortest_path_WS_model = sum(avg_shortest_path_per_p) / len(avg_shortest_path_per_p)\n"
   ]
  }
 ],
 "metadata": {
  "kernelspec": {
   "display_name": "Python 3",
   "language": "python",
   "name": "python3"
  },
  "language_info": {
   "codemirror_mode": {
    "name": "ipython",
    "version": 2
   },
   "file_extension": ".py",
   "mimetype": "text/x-python",
   "name": "python",
   "nbconvert_exporter": "python",
   "pygments_lexer": "ipython2",
   "version": "2.7.6"
  }
 },
 "nbformat": 4,
 "nbformat_minor": 0
}
