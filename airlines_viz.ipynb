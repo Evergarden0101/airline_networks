{
 "cells": [
  {
   "cell_type": "code",
   "execution_count": null,
   "metadata": {},
   "outputs": [],
   "source": [
    "import numpy as np\n",
    "import scipy as sp\n",
    "import networkx as nx\n",
    "import matplotlib.pyplot as plt\n",
    "from mpl_toolkits.basemap import Basemap"
   ]
  },
  {
   "cell_type": "code",
   "execution_count": null,
   "metadata": {
    "pycharm": {
     "name": "#%%\n"
    }
   },
   "outputs": [],
   "source": [
    "# read stored data from data_preparation notebook\n",
    "%store -r df_airports\n",
    "%store -r airports_dict\n",
    "%store -r df_merged"
   ]
  },
  {
   "cell_type": "code",
   "execution_count": null,
   "metadata": {
    "pycharm": {
     "name": "#%%\n"
    }
   },
   "outputs": [],
   "source": [
    "G = nx.read_gml('Graphs/airlines.gml')"
   ]
  },
  {
   "cell_type": "code",
   "execution_count": null,
   "metadata": {
    "pycharm": {
     "name": "#%%\n"
    }
   },
   "outputs": [],
   "source": [
    "lats = [k[1]['Latitude'] for k in airports_dict.items()]\n",
    "longs = [k[1]['Longitude'] for k in airports_dict.items()]\n"
   ]
  },
  {
   "cell_type": "code",
   "execution_count": null,
   "metadata": {
    "pycharm": {
     "name": "#%%\n"
    }
   },
   "outputs": [],
   "source": [
    "fig = plt.figure(dpi=1000, figsize=(8, 6))\n",
    "map = Basemap(projection='cyl', resolution=None,\n",
    "              llcrnrlat=-90, urcrnrlat=90,\n",
    "              llcrnrlon=-180, urcrnrlon=180, )\n",
    "\n",
    "pos = {}\n",
    "for n in G.nodes():\n",
    "    x,y = map(G.nodes[n]['Longitude'], G.nodes[n]['Latitude'])\n",
    "    pos[n] = (x,y)\n",
    "\n",
    "# convert to map proj https://matplotlib.org/basemap/users/mapcoords.html\n",
    "mx, my = map(longs, lats)"
   ]
  },
  {
   "cell_type": "code",
   "execution_count": null,
   "metadata": {
    "pycharm": {
     "name": "#%%\n"
    }
   },
   "outputs": [],
   "source": [
    "# https://networkx.org/documentation/stable/reference/generated/networkx.drawing.nx_pylab.draw_networkx.html\n",
    "# some experiments, not sure which one looks best ?\n",
    "# m.etopo(scale=0.5, alpha=0.5)\n",
    "# m.shadedrelief(scale=0.2)\n",
    "map.bluemarble()\n",
    "\n",
    "#plotting airports and then edges seems to look better than plotting both at same time\n",
    "# plt.plot(mx, my, marker='.', linestyle='None', markersize=1, color='w', alpha=0.2)\n",
    "nx.draw_networkx(G, pos=pos, node_size=1, edge_color='r', node_color='w', arrows=False, with_labels=False, alpha=0.6,\n",
    "                 width=00, node_shape='.')\n",
    "nx.draw_networkx(G, pos=pos, node_size=0, edge_color='r', node_color='w', arrows=False, with_labels=False, alpha=0.2,\n",
    "                 width=0.1, node_shape='.')\n",
    "plt.title('Air Traffic Flow')\n",
    "plt.savefig('Figures/world.pdf', dpi=1000)\n",
    "plt.show()"
   ]
  }
 ],
 "metadata": {
  "kernelspec": {
   "display_name": "Python 3",
   "language": "python",
   "name": "python3"
  },
  "language_info": {
   "codemirror_mode": {
    "name": "ipython",
    "version": 2
   },
   "file_extension": ".py",
   "mimetype": "text/x-python",
   "name": "python",
   "nbconvert_exporter": "python",
   "pygments_lexer": "ipython2",
   "version": "2.7.6"
  }
 },
 "nbformat": 4,
 "nbformat_minor": 0
}
