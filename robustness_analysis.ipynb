{
 "cells": [
  {
   "cell_type": "code",
   "execution_count": null,
   "metadata": {
    "id": "f3c8rz4yABQu"
   },
   "outputs": [],
   "source": [
    "import numpy as np\n",
    "import networkx as nx\n",
    "import matplotlib.pyplot as plt\n",
    "from operator import itemgetter\n",
    "import random\n",
    "from collections import OrderedDict \n",
    "from tqdm import trange\n",
    "%matplotlib inline"
   ]
  },
  {
   "cell_type": "markdown",
   "metadata": {
    "id": "ySw4lb4wABQz"
   },
   "source": [
    "# Network Robustness Analysis"
   ]
  },
  {
   "cell_type": "markdown",
   "metadata": {
    "id": "-QKBVoqhABQ1"
   },
   "source": [
    "Questions: \n",
    "- How many nodes can we remove while the network preserves its functioning condition?\n",
    "- How many nodes do we need to remove to fragment the network into isolated components?\n",
    "\n",
    "*Notes: \n",
    "- Attack order was computed beforehand instead of on the fly, because it drastically increased computation time.\n",
    "- Should we take avg. or max. values?*"
   ]
  },
  {
   "cell_type": "code",
   "execution_count": null,
   "metadata": {
    "id": "Ui9lIsL_ABQ2"
   },
   "outputs": [],
   "source": [
    "G = nx.read_gml('Graphs/airlines.gml')\n",
    "# 1% of data (rounded, 14 nodes will be left at the end)\n",
    "REMOVAL_SIZE = int(len(G)/100)\n",
    "# last \"batch\" needs to include the remaining nodes too\n",
    "LAST_REMOVAL_SIZE = REMOVAL_SIZE + len(G) % REMOVAL_SIZE\n",
    "# upper bound % of node to be removed\n",
    "REMOVAL_COUNT = 100"
   ]
  },
  {
   "cell_type": "code",
   "execution_count": null,
   "metadata": {
    "id": "eZEgNxofgF2d"
   },
   "outputs": [],
   "source": [
    "def percentage_of_removed_links(G):\n",
    "    return int(len(G)/100)\n",
    "\n",
    "def get_by_index(sorted_dict, i):\n",
    "   return sorted_dict[i][0]\n",
    " \n",
    "\n",
    "def robustness_attack(g, sorted_dict, removal_size, img_name):\n",
    "    \n",
    "    graph = g.copy()\n",
    "    node_idx = 0\n",
    "    node_size = len(g)\n",
    "\n",
    "    # network metrics\n",
    "    avg_in_degree = []\n",
    "    avg_out_degree = []\n",
    "    SCC = []\n",
    "    avg_closeness = []\n",
    "    avg_betweenness = []\n",
    "    avg_clustering = []\n",
    "    avg_eigvec_centrality = []\n",
    "    num_of_steps = []\n",
    "\n",
    "    # initial network statistics:\n",
    "    # compute avg. degree\n",
    "    avg_in_degree.append(sum([d for (n, d) in graph.in_degree()]) / float(graph.number_of_nodes()))\n",
    "    avg_out_degree.append(sum([d for (n, d) in graph.out_degree()]) / float(graph.number_of_nodes()))\n",
    "    # clustering\n",
    "    avg_clustering.append(nx.average_clustering(graph))\n",
    "    # largest strongly connected components (relative to number of nodes)\n",
    "    SCC.append(len(max(nx.strongly_connected_components(graph), key=len)) / node_size)\n",
    "    # closeness\n",
    "    avg_closeness.append(np.average(list(nx.closeness_centrality(graph).values())))\n",
    "    # betweenness\n",
    "    avg_betweenness.append(np.average(list(nx.betweenness_centrality(graph).values())))\n",
    "    # eigenvector centrality: because of convergance issues we use numpy method\n",
    "    avg_eigvec_centrality.append(np.average(list(nx.eigenvector_centrality_numpy(graph).values())))\n",
    "    # initial step\n",
    "    num_of_steps.append(0)\n",
    "    \n",
    "    for percentage in trange(1, REMOVAL_COUNT+1):\n",
    "        # remove nodes\n",
    "        delete_size = removal_size\n",
    "\n",
    "        if percentage == 100:\n",
    "            # last batch needs to remove all remaining nodes\n",
    "            delete_size = LAST_REMOVAL_SIZE\n",
    "        \n",
    "        for i in range(delete_size):\n",
    "            target = get_by_index(sorted_dict, node_idx)\n",
    "            graph.remove_node(target)\n",
    "            node_idx +=1\n",
    "\n",
    "        # compute network statistics\n",
    "        if graph.number_of_nodes() != 0:\n",
    "            # in and out degree\n",
    "            avg_in_degree.append(sum([d for (n, d) in graph.in_degree()]) / float(graph.number_of_nodes()))\n",
    "            avg_out_degree.append(sum([d for (n, d) in graph.out_degree()]) / float(graph.number_of_nodes()))\n",
    "            # clustering\n",
    "            avg_clustering.append(nx.average_clustering(graph))\n",
    "            # largest strongly connected components (relative to number of nodes)\n",
    "            SCC.append(len(max(nx.strongly_connected_components(graph), key=len)) / node_size)\n",
    "            # closeness\n",
    "            avg_closeness.append(np.average(list(nx.closeness_centrality(graph).values())))\n",
    "            # betweenness\n",
    "            avg_betweenness.append(np.average(list(nx.betweenness_centrality(graph).values())))\n",
    "            # eigenvector centrality: because of convergance issues we use numpy method\n",
    "            avg_eigvec_centrality.append(np.average(list(nx.eigenvector_centrality_numpy(graph).values())))\n",
    "        else:\n",
    "            # avoid division by zero\n",
    "            avg_in_degree.append(0)\n",
    "            avg_out_degree.append(0)\n",
    "            avg_clustering.append(0)\n",
    "            SCC.append(0)\n",
    "            avg_closeness.append(0)\n",
    "            avg_betweenness.append(0)\n",
    "            avg_eigvec_centrality.append(0)\n",
    "        \n",
    "        # keep track of steps\n",
    "        num_of_steps.append(percentage)\n",
    "    \n",
    "    # plot statistics\n",
    "    fig, axs = plt.subplots(3, figsize=(6,12))\n",
    "    fig.suptitle('Network statistics after attack', y=0.9)\n",
    "    axs[0].plot(num_of_steps, avg_in_degree, color='blue', label='avg. in degree')\n",
    "    axs[0].plot(num_of_steps, avg_out_degree, color='cyan', linestyle='--', label='avg. out degree')\n",
    "    axs[0].legend()\n",
    "    axs[0].set_ylabel('<k>')\n",
    "    axs[0].set_xlabel('% of removed nodes')\n",
    "    axs[0].set_yscale('log')\n",
    "    axs[1].plot(num_of_steps, SCC, color='red', label='SCC')\n",
    "    axs[1].set_ylabel('norm. SCC size')\n",
    "    axs[1].set_xlabel('% of removed nodes')\n",
    "    axs[1].set_yscale('log')\n",
    "    axs[1].legend()\n",
    "    axs[2].plot(num_of_steps, avg_closeness, color='green', label='avg. closeness')\n",
    "    axs[2].plot(num_of_steps, avg_betweenness, color='orange', label='avg. betweenness')\n",
    "    axs[2].plot(num_of_steps, avg_clustering, color='purple', label='avg. clustering')\n",
    "    axs[2].plot(num_of_steps, avg_eigvec_centrality, color='brown', label='avg. eigvec. centr.')\n",
    "    axs[2].set_ylabel('CC,CB,C,EC')\n",
    "    axs[2].set_xlabel('% of removed nodes')\n",
    "    axs[2].set_yscale('log')\n",
    "    axs[2].legend()\n",
    "    fig.savefig('Figures/robustness/' + img_name)\n",
    "    fig.show()\n",
    "    return avg_in_degree, avg_out_degree, SCC, avg_closeness, avg_betweenness, avg_clustering, avg_eigvec_centrality, num_of_steps"
   ]
  },
  {
   "cell_type": "markdown",
   "metadata": {
    "id": "6vZJUXhCABQ5"
   },
   "source": [
    "## Random Attacks"
   ]
  },
  {
   "cell_type": "code",
   "execution_count": null,
   "metadata": {
    "colab": {
     "base_uri": "https://localhost:8080/",
     "height": 748
    },
    "id": "fOBE2rSgABQ7",
    "outputId": "0f74c94f-dc7e-4b7d-f79f-b2b6e520a11a"
   },
   "outputs": [],
   "source": [
    "# load network\n",
    "G = nx.read_gml('Graphs/airlines.gml')\n",
    "# load node dict\n",
    "G_dict = dict(G.nodes())\n",
    "# shuffle dict\n",
    "key_list = list(G_dict)\n",
    "random.shuffle(key_list)\n",
    "# reconstruct random dict\n",
    "random_dict = dict()\n",
    "for key in key_list:\n",
    "        random_dict[key] = G_dict[key]\n",
    "# sort to list\n",
    "sorted_list = list(random_dict.items())\n",
    "# random attack\n",
    "rdm_id, rdm_od, rdm_SCC, rdm_cls, rdm_bet, rdm_clst, rdm_ev, rdm_steps = robustness_attack(G, sorted_list, REMOVAL_SIZE, 'random.pdf')"
   ]
  },
  {
   "cell_type": "markdown",
   "metadata": {
    "id": "ADrvia17ABQ8"
   },
   "source": [
    "## Targeted Attack"
   ]
  },
  {
   "cell_type": "markdown",
   "metadata": {
    "id": "ckxQ2GvEABQ-"
   },
   "source": [
    "### Betweenness Centrality"
   ]
  },
  {
   "cell_type": "code",
   "execution_count": null,
   "metadata": {
    "colab": {
     "base_uri": "https://localhost:8080/",
     "height": 748
    },
    "id": "gtX2VdmkABQ_",
    "outputId": "eebb3c70-7d1d-45c6-977d-574f947ebfa3"
   },
   "outputs": [],
   "source": [
    "# load network\n",
    "G = nx.read_gml('Graphs/airlines.gml')\n",
    "# Optimisation: precompute closeness dict instead of doing it continuously on the fly\n",
    "sorted_betweenness = sorted(dict(nx.betweenness_centrality(G)).items(), key=itemgetter(1), reverse=True)\n",
    "# betweenness attack\n",
    "bet_id, bet_od, bet_SCC, bet_cls, bet_bet, bet_clst, bet_ev, bet_steps = robustness_attack(G, sorted_betweenness, REMOVAL_SIZE, 'betweenness.pdf')"
   ]
  },
  {
   "cell_type": "markdown",
   "metadata": {
    "id": "UpTUNtRlABRA"
   },
   "source": [
    "### Closeness Centrality"
   ]
  },
  {
   "cell_type": "code",
   "execution_count": null,
   "metadata": {
    "colab": {
     "base_uri": "https://localhost:8080/",
     "height": 748
    },
    "id": "jOb9PozwABRB",
    "outputId": "f468dc99-ac44-477d-9eb0-dc4d2a3735da"
   },
   "outputs": [],
   "source": [
    "# load network\n",
    "G = nx.read_gml('Graphs/airlines.gml')\n",
    "# Optimisation: precompute closeness dict instead of doing it continuously on the fly\n",
    "sorted_closeness = sorted(dict(nx.closeness_centrality(G)).items(), key=itemgetter(1), reverse=True)\n",
    "# closeness attack\n",
    "clo_id, clo_od, clo_SCC, clo_cls, clo_bet, clo_clst, clo_ev, clo_steps = robustness_attack(G, sorted_closeness, REMOVAL_SIZE, 'closeness.pdf')"
   ]
  },
  {
   "cell_type": "markdown",
   "metadata": {
    "id": "TYPtrAlEABRC"
   },
   "source": [
    "### Degree"
   ]
  },
  {
   "cell_type": "code",
   "execution_count": null,
   "metadata": {
    "colab": {
     "base_uri": "https://localhost:8080/",
     "height": 748
    },
    "id": "4IPqtP-JbAa0",
    "outputId": "8adc636e-1c27-4d6f-a26e-9e02279fd3a7"
   },
   "outputs": [],
   "source": [
    "# load network\n",
    "G = nx.read_gml('Graphs/airlines.gml')\n",
    "# Optimisation: precompute degree dict instead of doing it continuously on the fly\n",
    "sorted_degree_dict = sorted(dict(nx.degree(G)).items(), key=itemgetter(1), reverse=True)\n",
    "# degree attack\n",
    "deg_id, deg_od, deg_SCC, deg_cls, deg_bet, deg_clst, deg_ev, deg_steps = robustness_attack(G, sorted_degree_dict, REMOVAL_SIZE, 'degree.pdf')"
   ]
  },
  {
   "cell_type": "markdown",
   "metadata": {
    "id": "N4Nr2GKSABRF"
   },
   "source": [
    "### Eigenvector Centrality"
   ]
  },
  {
   "cell_type": "markdown",
   "metadata": {
    "id": "lDdcOWeOxhys"
   },
   "source": [
    "*Note: Does not converge!*"
   ]
  },
  {
   "cell_type": "code",
   "execution_count": null,
   "metadata": {
    "colab": {
     "base_uri": "https://localhost:8080/",
     "height": 748
    },
    "id": "rLjpaJU3ABRF",
    "outputId": "f0506c2d-e134-4f4c-cab5-c45c2cef25db"
   },
   "outputs": [],
   "source": [
    "# load network\n",
    "G = nx.read_gml('Graphs/airlines.gml')\n",
    "# Optimisation: precompute degree dict instead of doing it continuously on the fly\n",
    "sorted_eigvec_dict = sorted(dict(nx.eigenvector_centrality_numpy(G)).items(), key=itemgetter(1), reverse=True)\n",
    "# eigenvector centrality attack\n",
    "evc_id, evc_od, evc_SCC, evc_cls, evc_bet, evc_clst, evc_ev, evc_steps = robustness_attack(G, sorted_eigvec_dict, REMOVAL_SIZE, 'eigvec.pdf')"
   ]
  },
  {
   "cell_type": "markdown",
   "metadata": {
    "id": "D8aRBxoWyuj0"
   },
   "source": [
    "# Attack Comparison"
   ]
  },
  {
   "cell_type": "code",
   "execution_count": null,
   "metadata": {
    "colab": {
     "base_uri": "https://localhost:8080/",
     "height": 955
    },
    "id": "JMgyQfuiABRG",
    "outputId": "27b00812-adac-4e4d-bc34-9f439c699619"
   },
   "outputs": [],
   "source": [
    "fig, axs = plt.subplots(7, figsize=(8,16))\n",
    "fig.suptitle('Network attack comparison', y=0.90)\n",
    "# in degree\n",
    "axs[0].plot(rdm_steps, rdm_id, color='blue', label='random')\n",
    "axs[0].plot(bet_steps, bet_id, color='green', label='betweenness')\n",
    "axs[0].plot(clo_steps, clo_id, color='red', label='closeness')\n",
    "axs[0].plot(deg_steps, deg_id, color='purple', label='degree')\n",
    "axs[0].plot(evc_steps, evc_id, color='orange', label='eigenvector')\n",
    "axs[0].set_ylabel('$<k_{in}>$')\n",
    "axs[0].set_yscale('log')\n",
    "box = axs[0].get_position()\n",
    "axs[0].set_position([box.x0, box.y0, box.width * 0.8, box.height])\n",
    "# out degree\n",
    "axs[1].plot(rdm_steps, rdm_od, color='blue', label='random')\n",
    "axs[1].plot(bet_steps, bet_od, color='green', label='betweenness')\n",
    "axs[1].plot(clo_steps, clo_od, color='red', label='closeness')\n",
    "axs[1].plot(deg_steps, deg_od, color='purple', label='degree')\n",
    "axs[1].plot(evc_steps, evc_od, color='orange', label='eigenvector')\n",
    "axs[1].set_ylabel('$<k_{out}>$')\n",
    "axs[1].set_yscale('log')\n",
    "box = axs[1].get_position()\n",
    "axs[1].set_position([box.x0, box.y0, box.width * 0.8, box.height])\n",
    "# SCC\n",
    "axs[2].plot(rdm_steps, rdm_SCC, color='blue', label='random')\n",
    "axs[2].plot(bet_steps, bet_SCC, color='green', label='betweenness')\n",
    "axs[2].plot(clo_steps, clo_SCC, color='red', label='closeness')\n",
    "axs[2].plot(deg_steps, deg_SCC, color='purple', label='degree')\n",
    "axs[2].plot(evc_steps, evc_SCC, color='orange', label='eigenvector')\n",
    "axs[2].set_ylabel('SCC')\n",
    "axs[2].set_yscale('log')\n",
    "box = axs[2].get_position()\n",
    "axs[2].set_position([box.x0, box.y0, box.width * 0.8, box.height])\n",
    "# closeness centrality\n",
    "axs[3].plot(rdm_steps, rdm_cls, color='blue', label='random')\n",
    "axs[3].plot(bet_steps, bet_cls, color='green', label='betweenness')\n",
    "axs[3].plot(clo_steps, clo_cls, color='red', label='closeness')\n",
    "axs[3].plot(deg_steps, deg_cls, color='purple', label='degree')\n",
    "axs[3].plot(evc_steps, evc_cls, color='orange', label='eigenvector')\n",
    "axs[3].set_ylabel('CC')\n",
    "axs[3].set_yscale('log')\n",
    "box = axs[3].get_position()\n",
    "axs[3].set_position([box.x0, box.y0, box.width * 0.8, box.height])\n",
    "# betweenness centrality\n",
    "axs[4].plot(rdm_steps, rdm_bet, color='blue', label='random')\n",
    "axs[4].plot(bet_steps, bet_bet, color='green', label='betweenness')\n",
    "axs[4].plot(clo_steps, clo_bet, color='red', label='closeness')\n",
    "axs[4].plot(deg_steps, deg_bet, color='purple', label='degree')\n",
    "axs[4].plot(evc_steps, evc_bet, color='orange', label='eigenvector')\n",
    "axs[4].set_ylabel('BC')\n",
    "axs[4].set_yscale('log')\n",
    "box = axs[4].get_position()\n",
    "axs[4].set_position([box.x0, box.y0, box.width * 0.8, box.height])\n",
    "# clustering\n",
    "axs[5].plot(rdm_steps, rdm_clst, color='blue', label='random')\n",
    "axs[5].plot(bet_steps, bet_clst, color='green', label='betweenness')\n",
    "axs[5].plot(clo_steps, clo_clst, color='red', label='closeness')\n",
    "axs[5].plot(deg_steps, deg_clst, color='purple', label='degree')\n",
    "axs[5].plot(evc_steps, evc_clst, color='orange', label='eigenvector')\n",
    "axs[5].set_ylabel('CC')\n",
    "axs[5].set_yscale('log')\n",
    "box = axs[5].get_position()\n",
    "axs[5].set_position([box.x0, box.y0, box.width * 0.8, box.height])\n",
    "# eigenvector centrality\n",
    "axs[6].plot(rdm_steps, rdm_ev, color='blue', label='random')\n",
    "axs[6].plot(bet_steps, bet_ev, color='green', label='betweenness')\n",
    "axs[6].plot(clo_steps, clo_ev, color='red', label='closeness')\n",
    "axs[6].plot(deg_steps, deg_ev, color='purple', label='degree')\n",
    "axs[6].plot(evc_steps, evc_ev, color='orange', label='eigenvector')\n",
    "axs[6].set_ylabel('EC')\n",
    "axs[6].set_xlabel('% of removed nodes')\n",
    "axs[6].set_yscale('log')\n",
    "box = axs[6].get_position()\n",
    "axs[6].set_position([box.x0, box.y0, box.width * 0.8, box.height])\n",
    "\n",
    "axs[6].legend(bbox_to_anchor=(1.05, 4.4), loc=2, borderaxespad=0.)\n",
    "fig.savefig('Figures/robustness/comparison.pdf')\n",
    "fig.show()"
   ]
  }
 ],
 "metadata": {
  "colab": {
   "collapsed_sections": [],
   "name": "robustness_analysis.ipynb",
   "provenance": []
  },
  "kernelspec": {
   "display_name": "Python 3 (ipykernel)",
   "language": "python",
   "name": "python3"
  },
  "language_info": {
   "codemirror_mode": {
    "name": "ipython",
    "version": 3
   },
   "file_extension": ".py",
   "mimetype": "text/x-python",
   "name": "python",
   "nbconvert_exporter": "python",
   "pygments_lexer": "ipython3",
   "version": "3.8.12"
  }
 },
 "nbformat": 4,
 "nbformat_minor": 0
}
