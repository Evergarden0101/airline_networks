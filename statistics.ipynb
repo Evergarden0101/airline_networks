{
 "cells": [
  {
   "cell_type": "code",
   "execution_count": null,
   "metadata": {},
   "outputs": [],
   "source": [
    "import copy\n",
    "import numpy as np\n",
    "import scipy as sp\n",
    "import networkx as nx\n",
    "import matplotlib\n",
    "import matplotlib.pyplot as plt\n",
    "from matplotlib import cm\n",
    "import pandas as pd\n",
    "from mpl_toolkits.basemap import Basemap\n",
    "import seaborn as sns"
   ]
  },
  {
   "cell_type": "markdown",
   "metadata": {
    "pycharm": {
     "name": "#%% md\n"
    }
   },
   "source": [
    "https://matplotlib.org/stable/tutorials/colors/colormaps.html"
   ]
  },
  {
   "cell_type": "code",
   "execution_count": null,
   "metadata": {
    "pycharm": {
     "name": "#%%\n"
    }
   },
   "outputs": [],
   "source": [
    "# read stored data from data_preparation notebook\n",
    "% store -r df_airports\n",
    "% store -r airports_dict\n",
    "% store -r df_merged\n",
    "\n",
    "GG = nx.read_gml('Graphs/airlines.gml')"
   ]
  },
  {
   "cell_type": "markdown",
   "metadata": {
    "pycharm": {
     "name": "#%% md\n"
    }
   },
   "source": [
    "    centralities\n",
    "    degree distribution"
   ]
  },
  {
   "cell_type": "code",
   "execution_count": null,
   "metadata": {
    "pycharm": {
     "name": "#%%\n"
    }
   },
   "outputs": [],
   "source": [
    "degree_centrality = nx.degree_centrality(GG)\n",
    "closeness_centrality = nx.closeness_centrality(GG)\n",
    "betweenness_centrality = nx.betweenness_centrality(GG)\n",
    "eigenvector_centrality = nx.eigenvector_centrality(GG)"
   ]
  },
  {
   "cell_type": "code",
   "execution_count": null,
   "metadata": {
    "pycharm": {
     "name": "#%%\n"
    }
   },
   "outputs": [],
   "source": [
    "nx.set_node_attributes(GG, closeness_centrality, 'closeness centrality')\n",
    "nx.set_node_attributes(GG, degree_centrality, 'degree centrality')\n",
    "nx.set_node_attributes(GG, betweenness_centrality, 'betweenness centrality')\n",
    "nx.set_node_attributes(GG, eigenvector_centrality, 'eigenvector centrality')"
   ]
  },
  {
   "cell_type": "code",
   "execution_count": null,
   "metadata": {
    "pycharm": {
     "name": "#%%\n"
    }
   },
   "outputs": [],
   "source": [
    "# asdf2 = [x for x in airports_dict.items()]\n",
    "# CC = copy.deepcopy((airports_dict))\n",
    "\n",
    "# for k,v in airports_dict.items():\n",
    "#     cc_at_k = closeness_centrality.get(str(k))\n",
    "#     CC[k] = cc_at_k if cc_at_k else 0\n",
    "\n",
    "# CC = [Tuple(x) for x in CC.values()]\n",
    "\n",
    "lats = [k[1]['Latitude'] for k in airports_dict.items()]\n",
    "longs = [k[1]['Longitude'] for k in airports_dict.items()]\n",
    "pos = {}\n",
    "for n in GG.nodes():\n",
    "    pos[n] = (GG.nodes[n]['Longitude'], GG.nodes[n]['Latitude'])"
   ]
  },
  {
   "cell_type": "markdown",
   "metadata": {
    "pycharm": {
     "name": "#%% md\n"
    }
   },
   "source": [
    "## Closeness Centrality"
   ]
  },
  {
   "cell_type": "code",
   "execution_count": null,
   "metadata": {
    "pycharm": {
     "name": "#%%\n"
    }
   },
   "outputs": [],
   "source": [
    "min_CC = min(closeness_centrality.values())\n",
    "max_CC = max(closeness_centrality.values())\n",
    "\n",
    "# normalize values into [0,1] for color map\n",
    "ff = np.array(list(nx.get_node_attributes(GG, 'closeness centrality').values()))\n",
    "CC = list((ff - min_CC) / (max_CC - min_CC))"
   ]
  },
  {
   "cell_type": "code",
   "execution_count": null,
   "metadata": {
    "pycharm": {
     "name": "#%%\n"
    }
   },
   "outputs": [],
   "source": [
    "fig = plt.figure(dpi=1000, figsize=(8, 6))\n",
    "map = Basemap(projection='cyl', resolution=None,\n",
    "              llcrnrlat=-90, urcrnrlat=90,\n",
    "              llcrnrlon=-180, urcrnrlon=180, )\n",
    "\n",
    "map.bluemarble(alpha=0.9)\n",
    "# draw twice: first one is lines only with alpha 0.1, second one is nodes only\n",
    "nx.draw_networkx(GG, pos=pos, node_size=1, width=0.005, node_color=CC, vmin=min(CC), vmax=max(CC),\n",
    "                 cmap=plt.cm.get_cmap('viridis'), arrows=False, with_labels=False, edge_color='w', alpha=0.1,\n",
    "                 node_shape='.')\n",
    "nx.draw_networkx(GG, pos=pos, node_size=1, width=0.0, node_color=CC, vmin=min(CC), vmax=max(CC),\n",
    "                 cmap=plt.cm.get_cmap('viridis'), arrows=False, with_labels=False, edge_color='w', alpha=0.8,\n",
    "                 node_shape='.')\n",
    "\n",
    "plt.title('Closeness Centrality')\n",
    "plt.savefig('Figures/closeness_centrality_world.pdf', dpi=1000)\n",
    "plt.show()"
   ]
  },
  {
   "cell_type": "markdown",
   "metadata": {
    "pycharm": {
     "name": "#%% md\n"
    }
   },
   "source": [
    "### Degree Centrality"
   ]
  },
  {
   "cell_type": "code",
   "execution_count": null,
   "metadata": {
    "pycharm": {
     "name": "#%%\n"
    }
   },
   "outputs": [],
   "source": [
    "min_DC = min(degree_centrality.values())\n",
    "max_DC = max(degree_centrality.values())\n",
    "\n",
    "# normalize values into [0,1] for color map\n",
    "ff = np.array(list(nx.get_node_attributes(GG, 'degree centrality').values()))\n",
    "DC = list((ff - max_DC) / (max_DC - min_DC))"
   ]
  },
  {
   "cell_type": "code",
   "execution_count": null,
   "metadata": {
    "pycharm": {
     "name": "#%%\n"
    }
   },
   "outputs": [],
   "source": [
    "fig = plt.figure(dpi=1000, figsize=(8, 6))\n",
    "map = Basemap(projection='cyl', resolution=None,\n",
    "              llcrnrlat=-90, urcrnrlat=90,\n",
    "              llcrnrlon=-180, urcrnrlon=180, )\n",
    "\n",
    "map.bluemarble(alpha=0.9)\n",
    "# draw twice: first one is lines only with alpha 0.1, second one is nodes only\n",
    "nx.draw_networkx(GG, pos=pos, node_size=1, width=0.005, node_color=DC, vmin=min(DC), vmax=max(DC),\n",
    "                 cmap=plt.cm.get_cmap('viridis'), arrows=False, with_labels=False, edge_color='w', alpha=0.1,\n",
    "                 node_shape='.')\n",
    "nx.draw_networkx(GG, pos=pos, node_size=1, width=0.0, node_color=DC, vmin=min(DC), vmax=max(DC),\n",
    "                 cmap=plt.cm.get_cmap('viridis'), arrows=False, with_labels=False, edge_color='w', alpha=0.8,\n",
    "                 node_shape='.')\n",
    "\n",
    "plt.title('Degree Centrality')\n",
    "plt.savefig('Figures/degree_centrality_world.pdf', dpi=1000)\n",
    "plt.show()"
   ]
  },
  {
   "cell_type": "markdown",
   "metadata": {},
   "source": [
    "### Betweenness Centrality"
   ]
  },
  {
   "cell_type": "code",
   "execution_count": null,
   "metadata": {
    "pycharm": {
     "name": "#%%\n"
    }
   },
   "outputs": [],
   "source": [
    "min_BC = min(betweenness_centrality.values())\n",
    "max_BC = max(betweenness_centrality.values())\n",
    "\n",
    "# normalize values into [0,1] for color map\n",
    "ff = np.array(list(nx.get_node_attributes(GG, 'betweenness centrality').values()))\n",
    "BC = list((ff - max_BC) / (max_BC - min_BC))"
   ]
  },
  {
   "cell_type": "code",
   "execution_count": null,
   "metadata": {
    "pycharm": {
     "name": "#%%\n"
    }
   },
   "outputs": [],
   "source": [
    "fig = plt.figure(dpi=1000, figsize=(8, 6))\n",
    "map = Basemap(projection='cyl', resolution=None,\n",
    "              llcrnrlat=-90, urcrnrlat=90,\n",
    "              llcrnrlon=-180, urcrnrlon=180, )\n",
    "\n",
    "map.bluemarble(alpha=0.9)\n",
    "# draw twice: first one is lines only with alpha 0.1, second one is nodes only\n",
    "nx.draw_networkx(GG, pos=pos, node_size=1, width=0.005, node_color=BC, vmin=min(BC), vmax=max(BC),\n",
    "                 cmap=plt.cm.get_cmap('viridis'), arrows=False, with_labels=False, edge_color='w', alpha=0.1,\n",
    "                 node_shape='.')\n",
    "nx.draw_networkx(GG, pos=pos, node_size=1, width=0.0, node_color=BC, vmin=min(BC), vmax=max(BC),\n",
    "                 cmap=plt.cm.get_cmap('viridis'), arrows=False, with_labels=False, edge_color='w', alpha=0.8,\n",
    "                 node_shape='.')\n",
    "\n",
    "plt.title('Betweenness Centrality')\n",
    "plt.savefig('Figures/betweenness_centrality_world.pdf', dpi=1000)\n",
    "plt.show()"
   ]
  },
  {
   "cell_type": "markdown",
   "metadata": {},
   "source": [
    "### Eigenvector Centrality"
   ]
  },
  {
   "cell_type": "code",
   "execution_count": null,
   "metadata": {
    "pycharm": {
     "name": "#%%\n"
    }
   },
   "outputs": [],
   "source": [
    "min_EC = min(eigenvector_centrality.values())\n",
    "max_EC = max(eigenvector_centrality.values())\n",
    "\n",
    "# normalize values into [0,1] for color map\n",
    "ff = np.array(list(nx.get_node_attributes(GG, 'eigenvector centrality').values()))\n",
    "EC = list((ff - max_EC) / (max_EC - min_EC))"
   ]
  },
  {
   "cell_type": "code",
   "execution_count": null,
   "metadata": {
    "pycharm": {
     "name": "#%%\n"
    }
   },
   "outputs": [],
   "source": [
    "fig = plt.figure(dpi=1000, figsize=(8, 6))\n",
    "map = Basemap(projection='cyl', resolution=None,\n",
    "              llcrnrlat=-90, urcrnrlat=90,\n",
    "              llcrnrlon=-180, urcrnrlon=180, )\n",
    "map.etopo(scale=0.5, alpha=0.5)\n",
    "# map.bluemarble(alpha=0.9)\n",
    "# draw twice: first one is lines only with alpha 0.1, second one is nodes only\n",
    "nx.draw_networkx(GG, pos=pos, node_size=1, width=0.005, node_color=EC, vmin=min(EC), vmax=max(EC),\n",
    "                 cmap=plt.cm.get_cmap('viridis'), arrows=False, with_labels=False, edge_color='w', alpha=0.1,\n",
    "                 node_shape='.')\n",
    "nx.draw_networkx(GG, pos=pos, node_size=1, width=0.0, node_color=EC, vmin=min(EC), vmax=max(EC),\n",
    "                 cmap=plt.cm.get_cmap('viridis'), arrows=False, with_labels=False, edge_color='w', alpha=0.8,\n",
    "                 node_shape='.')\n",
    "\n",
    "plt.title('Eigenvector Centrality')\n",
    "plt.savefig('Figures/eigenvector_centrality_world.pdf', dpi=1000)\n",
    "plt.show()"
   ]
  },
  {
   "cell_type": "code",
   "execution_count": null,
   "metadata": {
    "pycharm": {
     "name": "#%%\n"
    }
   },
   "outputs": [],
   "source": [
    "fig, ax = plt.subplots(dpi=300, figsize=(8, 4))\n",
    "plt.plot(degree_centrality.keys(), degree_centrality.values(), linewidth=0, marker='.', label='Degree Centrality',\n",
    "         alpha=0.3)\n",
    "plt.plot(closeness_centrality.keys(), closeness_centrality.values(), linewidth=0, marker='.',\n",
    "         label='Closeness Centrality', alpha=0.3)\n",
    "plt.plot(betweenness_centrality.keys(), betweenness_centrality.values(), linewidth=0, marker='.',\n",
    "         label='Betweenness Centrality', alpha=0.3)\n",
    "plt.plot(eigenvector_centrality.keys(), eigenvector_centrality.values(), linewidth=0, marker='.',\n",
    "         label='Eigenvector Centrality', alpha=0.3)\n",
    "plt.title('Centralities')\n",
    "ax.xaxis.set_major_locator(plt.MaxNLocator(3))\n",
    "plt.xlabel('Airport ID $n$')\n",
    "plt.ylabel('Centrality value')\n",
    "plt.legend()\n",
    "plt.savefig('Figures/centralities.pdf', dpi=1000)\n",
    "plt.show()"
   ]
  },
  {
   "cell_type": "markdown",
   "metadata": {
    "pycharm": {
     "name": "#%% md\n"
    }
   },
   "source": [
    "## Degree Distribution"
   ]
  },
  {
   "cell_type": "code",
   "execution_count": null,
   "metadata": {
    "pycharm": {
     "name": "#%%\n"
    }
   },
   "outputs": [],
   "source": [
    "G_DEGS = [GG.degree()[i] for i in GG.nodes()]\n",
    "bins = np.logspace(np.log10(min(G_DEGS)), np.log10(max(G_DEGS) + 1), 30)\n",
    "# take the average value of all degrees\n",
    "AVG_VAL = np.average(G_DEGS)"
   ]
  },
  {
   "cell_type": "code",
   "execution_count": null,
   "metadata": {
    "pycharm": {
     "name": "#%%\n"
    }
   },
   "outputs": [],
   "source": [
    "fig = plt.figure(dpi=300, figsize=(6, 6))\n",
    "plt.hist(G_DEGS, bins=bins, density=True, alpha=0.8)\n",
    "plt.axvline(x=AVG_VAL, color='r', label='Average Degree', c='orange')\n",
    "plt.xlabel('Degree $k$', fontsize=14)\n",
    "plt.ylabel('$\\mathcal{P}(k)$', fontsize=14)\n",
    "plt.title('Degree Distribution',fontsize=20)\n",
    "plt.xscale('log')\n",
    "plt.yscale('log')\n",
    "plt.legend()\n",
    "plt.savefig('Figures/degree_distribution.pdf', dpi=1000)\n",
    "plt.show()"
   ]
  }
 ],
 "metadata": {
  "kernelspec": {
   "display_name": "Python 3",
   "language": "python",
   "name": "python3"
  },
  "language_info": {
   "codemirror_mode": {
    "name": "ipython",
    "version": 2
   },
   "file_extension": ".py",
   "mimetype": "text/x-python",
   "name": "python",
   "nbconvert_exporter": "python",
   "pygments_lexer": "ipython2",
   "version": "2.7.6"
  }
 },
 "nbformat": 4,
 "nbformat_minor": 0
}
