{
 "cells": [
  {
   "cell_type": "code",
   "execution_count": null,
   "metadata": {},
   "outputs": [],
   "source": [
    "import copy\n",
    "import numpy as np\n",
    "import scipy as sp\n",
    "import networkx as nx\n",
    "import matplotlib\n",
    "import matplotlib.pyplot as plt\n",
    "from matplotlib import cm\n",
    "import pandas as pd\n",
    "from mpl_toolkits.basemap import Basemap\n",
    "import seaborn as sns\n"
   ]
  },
  {
   "cell_type": "markdown",
   "metadata": {
    "pycharm": {
     "name": "#%% md\n"
    }
   },
   "source": [
    "https://matplotlib.org/stable/tutorials/colors/colormaps.html"
   ]
  },
  {
   "cell_type": "code",
   "execution_count": null,
   "metadata": {
    "pycharm": {
     "name": "#%%\n"
    }
   },
   "outputs": [],
   "source": [
    "# read stored data from data_preparation notebook\n",
    "# @formatter:off\n",
    "%store -r df_airports\n",
    "%store -r airports_dict\n",
    "%store -r df_merged\n",
    "# @formatter:on\n",
    "GG = nx.read_gml('Graphs/airlines.gml')\n"
   ]
  },
  {
   "cell_type": "markdown",
   "metadata": {
    "pycharm": {
     "name": "#%% md\n"
    }
   },
   "source": [
    "    centralities\n",
    "    degree distribution"
   ]
  },
  {
   "cell_type": "code",
   "execution_count": null,
   "metadata": {
    "pycharm": {
     "name": "#%%\n"
    }
   },
   "outputs": [],
   "source": [
    "degree_centrality = nx.degree_centrality(GG)\n",
    "closeness_centrality = nx.closeness_centrality(GG)\n",
    "betweenness_centrality = nx.betweenness_centrality(GG)\n",
    "eigenvector_centrality = nx.eigenvector_centrality(GG)\n"
   ]
  },
  {
   "cell_type": "code",
   "execution_count": null,
   "metadata": {
    "pycharm": {
     "name": "#%%\n"
    }
   },
   "outputs": [],
   "source": [
    "nx.set_node_attributes(GG, closeness_centrality, 'closeness centrality')\n",
    "nx.set_node_attributes(GG, degree_centrality, 'degree centrality')\n",
    "nx.set_node_attributes(GG, betweenness_centrality, 'betweenness centrality')\n",
    "nx.set_node_attributes(GG, eigenvector_centrality, 'eigenvector centrality')\n"
   ]
  },
  {
   "cell_type": "code",
   "execution_count": null,
   "metadata": {
    "pycharm": {
     "name": "#%%\n"
    }
   },
   "outputs": [],
   "source": [
    "centralityArr = [degree_centrality, closeness_centrality,\n",
    "                 betweenness_centrality, eigenvector_centrality]\n",
    "centralityNames = ['degree', 'closeness', 'betweenness', 'eigenvector']\n"
   ]
  },
  {
   "cell_type": "code",
   "execution_count": null,
   "metadata": {
    "pycharm": {
     "name": "#%%\n"
    }
   },
   "outputs": [],
   "source": [
    "map = Basemap(projection='cyl', resolution=None,\n",
    "              llcrnrlat=-90, urcrnrlat=90,\n",
    "              llcrnrlon=-180, urcrnrlon=180, )\n",
    "\n",
    "lats = [k[1]['Latitude'] for k in airports_dict.items()]\n",
    "longs = [k[1]['Longitude'] for k in airports_dict.items()]\n",
    "\n",
    "# convert long/lat into map proj https://matplotlib.org/basemap/users/mapcoords.html\n",
    "pos = {}\n",
    "for n in GG.nodes():\n",
    "    x,y = map(GG.nodes[n]['Longitude'], GG.nodes[n]['Latitude'])\n",
    "    pos[n] = (x,y)"
   ]
  },
  {
   "cell_type": "markdown",
   "metadata": {
    "pycharm": {
     "name": "#%% md\n"
    }
   },
   "source": [
    "## Centralities"
   ]
  },
  {
   "cell_type": "code",
   "execution_count": null,
   "metadata": {},
   "outputs": [],
   "source": [
    "for centrality, name in zip(centralityArr, centralityNames):\n",
    "    print(name)\n",
    "    minCentralityVal = min(centrality.values())\n",
    "    maxCentralityVal = max(centrality.values())\n",
    "    print(minCentralityVal, maxCentralityVal)\n",
    "    # normalize values into [0,1] for color map\n",
    "    ff = np.array(list(nx.get_node_attributes(\n",
    "        GG, f'{name} centrality').values()))\n",
    "    CC = list((ff - minCentralityVal) / (maxCentralityVal - minCentralityVal))\n",
    "\n",
    "    fig = plt.figure(dpi=1000, figsize=(8, 6))\n",
    "    map = Basemap(projection='cyl', resolution=None,\n",
    "                  llcrnrlat=-90, urcrnrlat=90,\n",
    "                  llcrnrlon=-180, urcrnrlon=180, )\n",
    "\n",
    "    map.bluemarble(alpha=0.9)\n",
    "    # draw twice: first one is lines only with alpha 0.1, second one is nodes only\n",
    "    nx.draw_networkx(GG, pos=pos, node_size=1, width=0.005, node_color=CC, vmin=min(CC), vmax=max(CC),\n",
    "                     cmap=plt.cm.get_cmap('viridis'), arrows=False, with_labels=False, edge_color='w', alpha=0.1,\n",
    "                     node_shape='.')\n",
    "    nx.draw_networkx(GG, pos=pos, node_size=1, width=0.0, node_color=CC, vmin=min(CC), vmax=max(CC),\n",
    "                     cmap=plt.cm.get_cmap('viridis'), arrows=False, with_labels=False, edge_color='w', alpha=0.8,\n",
    "                     node_shape='.')\n",
    "\n",
    "    plt.title(f'{name} Centrality')\n",
    "    plt.savefig(f'Figures/{name.capitalize()}_centrality_world.pdf', dpi=1000)\n"
   ]
  },
  {
   "cell_type": "markdown",
   "metadata": {
    "pycharm": {
     "name": "#%% md\n"
    }
   },
   "source": [
    "## Degree Distribution"
   ]
  },
  {
   "cell_type": "code",
   "execution_count": null,
   "metadata": {
    "pycharm": {
     "name": "#%%\n"
    }
   },
   "outputs": [],
   "source": [
    "G_DEGS = [GG.degree()[i] for i in GG.nodes()]\n",
    "bins = np.logspace(np.log10(min(G_DEGS)), np.log10(max(G_DEGS) + 1), 30)\n",
    "# take the average value of all degrees\n",
    "AVG_VAL = np.average(G_DEGS)"
   ]
  },
  {
   "cell_type": "code",
   "execution_count": null,
   "metadata": {
    "pycharm": {
     "name": "#%%\n"
    }
   },
   "outputs": [],
   "source": [
    "fig = plt.figure(dpi=300, figsize=(6, 6))\n",
    "plt.hist(G_DEGS, bins=bins, density=True, alpha=0.8)\n",
    "plt.axvline(x=AVG_VAL, color='r', label='Average Degree', c='orange')\n",
    "plt.xlabel('Degree $k$', fontsize=14)\n",
    "plt.ylabel('$\\mathcal{P}(k)$', fontsize=14)\n",
    "plt.title('Degree Distribution', fontsize=20)\n",
    "plt.xscale('log')\n",
    "plt.yscale('log')\n",
    "plt.legend()\n",
    "plt.savefig('Figures/degree_distribution.pdf', dpi=1000)\n",
    "plt.show()"
   ]
  }
 ],
 "metadata": {
  "kernelspec": {
   "display_name": "Python 3",
   "language": "python",
   "name": "python3"
  },
  "language_info": {
   "codemirror_mode": {
    "name": "ipython",
    "version": 3
   },
   "file_extension": ".py",
   "mimetype": "text/x-python",
   "name": "python",
   "nbconvert_exporter": "python",
   "pygments_lexer": "ipython3",
   "version": "3.8.12"
  }
 },
 "nbformat": 4,
 "nbformat_minor": 0
}
