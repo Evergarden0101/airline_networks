{
 "cells": [
  {
   "cell_type": "code",
   "execution_count": null,
   "metadata": {},
   "outputs": [],
   "source": [
    "import copy\n",
    "import numpy as np\n",
    "import scipy as sp\n",
    "import networkx as nx\n",
    "import matplotlib\n",
    "import matplotlib.pyplot as plt\n",
    "from matplotlib import cm\n",
    "import pandas as pd\n",
    "from mpl_toolkits.basemap import Basemap\n",
    "from mpl_toolkits.axes_grid1.inset_locator import inset_axes\n",
    "import seaborn as sns\n",
    "\n"
   ]
  },
  {
   "cell_type": "markdown",
   "metadata": {
    "pycharm": {
     "name": "#%% md\n"
    }
   },
   "source": [
    "Read stored data from the data_preparation notebook (that needs to have run beforehand)."
   ]
  },
  {
   "cell_type": "code",
   "execution_count": null,
   "metadata": {
    "pycharm": {
     "name": "#%%\n"
    }
   },
   "outputs": [],
   "source": [
    "# @formatter:off\n",
    "%store -r df_airports\n",
    "%store -r airports_dict\n",
    "%store -r df_merged\n",
    "# @formatter:on\n",
    "GG = nx.read_gml('Graphs/airlines.gml')\n"
   ]
  },
  {
   "cell_type": "markdown",
   "metadata": {
    "pycharm": {
     "name": "#%% md\n"
    }
   },
   "source": [
    "Calculate the centralities metrics for the network, and set them as node attributes, and for easier plotting,\n",
    "we include the centralities in an array."
   ]
  },
  {
   "cell_type": "code",
   "execution_count": null,
   "metadata": {
    "pycharm": {
     "name": "#%%\n"
    }
   },
   "outputs": [],
   "source": [
    "degree_centrality = nx.degree_centrality(GG)\n",
    "closeness_centrality = nx.closeness_centrality(GG)\n",
    "betweenness_centrality = nx.betweenness_centrality(GG)\n",
    "eigenvector_centrality = nx.eigenvector_centrality(GG)\n",
    "\n",
    "nx.set_node_attributes(GG, closeness_centrality, 'closeness centrality')\n",
    "nx.set_node_attributes(GG, degree_centrality, 'degree centrality')\n",
    "nx.set_node_attributes(GG, betweenness_centrality, 'betweenness centrality')\n",
    "nx.set_node_attributes(GG, eigenvector_centrality, 'eigenvector centrality')\n",
    "\n",
    "\n",
    "centralityArr = [degree_centrality, closeness_centrality,\n",
    "                 betweenness_centrality, eigenvector_centrality]\n",
    "centralityNames = ['degree', 'closeness', 'betweenness', 'eigenvector']\n"
   ]
  },
  {
   "cell_type": "markdown",
   "metadata": {
    "pycharm": {
     "name": "#%% md\n"
    }
   },
   "source": [
    "We need to convert the airports long/lat positions into the map projection\n",
    "\n",
    "c.f. https://matplotlib.org/basemap/users/mapcoords.html"
   ]
  },
  {
   "cell_type": "code",
   "execution_count": null,
   "metadata": {
    "pycharm": {
     "name": "#%%\n"
    }
   },
   "outputs": [],
   "source": [
    "map = Basemap(projection='cyl', resolution=None,\n",
    "              llcrnrlat=-90, urcrnrlat=90,\n",
    "              llcrnrlon=-180, urcrnrlon=180, )\n",
    "\n",
    "lats = [k[1]['Latitude'] for k in airports_dict.items()]\n",
    "longs = [k[1]['Longitude'] for k in airports_dict.items()]\n",
    "\n",
    "pos = {}\n",
    "for n in GG.nodes():\n",
    "    x,y = map(GG.nodes[n]['Longitude'], GG.nodes[n]['Latitude'])\n",
    "    pos[n] = (x,y)"
   ]
  },
  {
   "cell_type": "markdown",
   "metadata": {
    "pycharm": {
     "name": "#%% md\n"
    }
   },
   "source": [
    "## Centralities\n",
    "Plot each previously computed centrality on the world map.\n",
    "These plots use the `viridis` colormap, c.f. https://matplotlib.org/stable/tutorials/colors/colormaps.html\n",
    "where purple values are low, blue-greenish in the middle and high value are mapped to yellow."
   ]
  },
  {
   "cell_type": "code",
   "execution_count": null,
   "metadata": {},
   "outputs": [],
   "source": [
    "def normalize(x):\n",
    "    \"\"\"\n",
    "    Returns normalized array with values in [0,1] range\n",
    "    :param x:\n",
    "    :return:\n",
    "    \"\"\"\n",
    "    return (x - np.min(x)) / (np.max(x) - np.min(x))"
   ]
  },
  {
   "cell_type": "code",
   "execution_count": null,
   "metadata": {
    "pycharm": {
     "name": "#%%\n"
    }
   },
   "outputs": [],
   "source": [
    "nodesizes = {\n",
    "    'degree':50,\n",
    "    'closeness':1,\n",
    "    'betweenness':100,\n",
    "    'eigenvector':35\n",
    "}\n",
    "fig, axes = plt.subplots(2, 2, figsize=(12,8))\n",
    "for centrality, name, ax in zip(centralityArr, centralityNames, axes.flat):\n",
    "    minCentralityVal = min(centrality.values())\n",
    "    maxCentralityVal = max(centrality.values())\n",
    "    print(name, minCentralityVal, maxCentralityVal)\n",
    "\n",
    "    # normalize values into [0,1] for color map\n",
    "    ff = np.array(list(nx.get_node_attributes(\n",
    "        GG, f'{name} centrality').values()))\n",
    "    # CC = normalize(ff)\n",
    "    CC = ff\n",
    "\n",
    "    # fig2, ax2 = plt.subplots(dpi=100, figsize=(4, 3))\n",
    "    # fig2, ax2 = plt.subplots(dpi=1000, figsize=(8, 6))\n",
    "    map = Basemap(projection='cyl', resolution=None,\n",
    "                  llcrnrlat=-90, urcrnrlat=90,\n",
    "                  llcrnrlon=-180, urcrnrlon=180, ax=ax )\n",
    "    cmap = plt.cm.get_cmap('viridis')\n",
    "    vmin = min(CC)\n",
    "    vmax = max(CC)\n",
    "    map.bluemarble(alpha=0.6)\n",
    "    # draw twice: first one is lines only with alpha 0.1, second one is nodes only\n",
    "    nx.draw_networkx(GG, pos=pos, node_size=0, width=0.0001, node_color=CC, vmin=vmin, vmax=vmax,\n",
    "                     cmap=cmap, arrows=False, with_labels=False, edge_color='w', alpha=0.1,\n",
    "                     node_shape='o', ax=ax)\n",
    "    nx.draw_networkx(GG, pos=pos, width=0.0, node_color=CC, vmin=vmin, vmax=vmax,\n",
    "                     cmap=cmap, arrows=False, with_labels=False, edge_color='w', alpha=0.8,\n",
    "                     node_shape='o', node_size=[v * nodesizes[name] for v in centrality.values()], ax=ax)\n",
    "\n",
    "    # Create colorbar according to https://stackoverflow.com/a/49572947/14720136\n",
    "    # sm = plt.cm.ScalarMappable(cmap=cmap, norm=plt.Normalize(vmin=vmin, vmax=vmax))\n",
    "\n",
    "    sm = plt.cm.ScalarMappable(cmap=cmap)\n",
    "    sm.set_array([])\n",
    "    # custom ticks https://matplotlib.org/3.3.3/gallery/ticks_and_spines/colorbar_tick_labelling_demo.html\n",
    "    cbar = plt.colorbar(sm, orientation='horizontal', aspect=50, ticks=[0,1], pad = 0.01, ax=ax)\n",
    "    cbar.ax.set_xticklabels([f'{vmin:.2f}', f'{vmax:.2f}'])\n",
    "    ax.set_title(f'{name.capitalize()} Centrality')\n",
    "\n",
    "# plt.title(f'{name.capitalize()} Centrality', fontsize=20)\n",
    "fig.suptitle('Centrality', fontsize=24, y=0.93)\n",
    "# plt.savefig(f'Figures/{name}_centrality_world_new4.pdf', dpi=1000)\n",
    "plt.savefig(f'Figures/centralities_world_12x8.pdf', dpi=600)\n"
   ]
  },
  {
   "cell_type": "markdown",
   "metadata": {
    "pycharm": {
     "name": "#%% md\n"
    }
   },
   "source": [
    "## Degree Distribution"
   ]
  },
  {
   "cell_type": "code",
   "execution_count": null,
   "metadata": {
    "pycharm": {
     "name": "#%%\n"
    }
   },
   "outputs": [],
   "source": [
    "G_DEGS = [GG.degree()[i] for i in GG.nodes()]\n",
    "bins = np.logspace(np.log10(min(G_DEGS)), np.log10(max(G_DEGS) + 1), 30)\n",
    "# take the average value of all degrees\n",
    "AVG_VAL = np.average(G_DEGS)"
   ]
  },
  {
   "cell_type": "code",
   "execution_count": null,
   "metadata": {
    "pycharm": {
     "name": "#%%\n"
    }
   },
   "outputs": [],
   "source": [
    "fig = plt.figure(dpi=300, figsize=(6, 6))\n",
    "plt.hist(G_DEGS, bins=bins, density=True, alpha=0.8)\n",
    "plt.axvline(x=AVG_VAL, color='r', label='Average Degree', c='orange')\n",
    "plt.xlabel('Degree $k$', fontsize=14)\n",
    "plt.ylabel('$\\mathcal{P}(k)$', fontsize=14)\n",
    "plt.title('Degree Distribution', fontsize=20)\n",
    "plt.xscale('log')\n",
    "plt.yscale('log')\n",
    "plt.legend()\n",
    "plt.savefig('Figures/degree_distribution.pdf', dpi=1000)\n",
    "plt.show()"
   ]
  },
  {
   "cell_type": "markdown",
   "metadata": {
    "pycharm": {
     "name": "#%% md\n"
    }
   },
   "source": []
  },
  {
   "cell_type": "code",
   "execution_count": null,
   "metadata": {
    "pycharm": {
     "name": "#%%\n"
    }
   },
   "outputs": [],
   "source": [
    "fig, ax = plt.subplots(dpi=300, figsize=(8, 4))\n",
    "plt.plot(degree_centrality.keys(), degree_centrality.values(), linewidth=0, marker='.', label='Degree Centrality',alpha=0.3)\n",
    "plt.plot(closeness_centrality.keys(), closeness_centrality.values(), linewidth=0, marker='.',\n",
    "label='Closeness Centrality', alpha=0.3)\n",
    "plt.plot(betweenness_centrality.keys(), betweenness_centrality.values(), linewidth=0, marker='.',\n",
    "label='Betweenness Centrality', alpha=0.3)\n",
    "plt.plot(eigenvector_centrality.keys(), eigenvector_centrality.values(), linewidth=0, marker='.',\n",
    "label='Eigenvector Centrality', alpha=0.3)\n",
    "plt.title('Centralities', fontsize=20)\n",
    "ax.xaxis.set_major_locator(plt.MaxNLocator(3))\n",
    "plt.xlabel('Airport ID $n$')\n",
    "plt.ylabel('Centrality value')\n",
    "plt.legend()\n",
    "plt.savefig('Figures/centralities.pdf', dpi=1000)\n",
    "plt.show()"
   ]
  },
  {
   "cell_type": "markdown",
   "metadata": {
    "pycharm": {
     "name": "#%% md\n"
    }
   },
   "source": [
    "build a dataframe with rows as airport ids and columns as the centralities.\n",
    "This allows us to use seaborn's pair plotting feature."
   ]
  },
  {
   "cell_type": "code",
   "execution_count": null,
   "metadata": {
    "pycharm": {
     "name": "#%%\n"
    }
   },
   "outputs": [],
   "source": [
    "centralityDict = {}\n",
    "for k in GG.nodes():\n",
    "    centralityDict[k] = {}\n",
    "    centralityDict[k]['betweenness_centrality'] = betweenness_centrality[k]\n",
    "    centralityDict[k]['closeness_centrality'] = closeness_centrality[k]\n",
    "    centralityDict[k]['degree_centrality'] = degree_centrality[k]\n",
    "    centralityDict[k]['eigenvector_centrality'] = eigenvector_centrality[k]\n",
    "df_centralities = pd.DataFrame.from_dict(centralityDict, orient='index')"
   ]
  },
  {
   "cell_type": "code",
   "execution_count": null,
   "metadata": {
    "pycharm": {
     "name": "#%%\n"
    }
   },
   "outputs": [],
   "source": [
    "fig = plt.figure(dpi=100, figsize=(10,10))\n",
    "f = sns.pairplot(df_centralities,\n",
    "                 # kind='hist',\n",
    "                 plot_kws={\n",
    "    'alpha':0.6,\n",
    "    # 'line_kws':{'color':'red'}, 'scatter_kws': {'alpha': 0.1}\n",
    "}, diag_kind = 'kde'\n",
    "                 )\n",
    "f.fig.suptitle('Centralities', y=1.04, fontsize=24)\n",
    "plt.savefig('Figures/centrality_pairplot.pdf', dpi=100)"
   ]
  },
  {
   "cell_type": "markdown",
   "execution_count": null,
   "metadata": {
    "pycharm": {
     "name": "#%% md\n"
    }
   },
   "source": [
    "Get degrees for each node. We want to find the airports with the highest degrees."
   ]
  },
  {
   "cell_type": "code",
   "execution_count": null,
   "metadata": {
    "pycharm": {
     "name": "#%%\n"
    }
   },
   "outputs": [],
   "source": [
    "degrees = nx.degree(GG)"
   ]
  },
  {
   "cell_type": "code",
   "execution_count": null,
   "metadata": {
    "pycharm": {
     "name": "#%%\n"
    }
   },
   "outputs": [],
   "source": [
    "# un-normalized betweenness centrality. just out of curiosity. not used.\n",
    "# betweenness_centrality_unnormalized = nx.betweenness_centrality(GG, normalized=False)\n",
    "# print(min(betweenness_centrality.values()), max(betweenness_centrality.values()))\n",
    "# print(min(betweenness_centrality_unnormalized.values()), max(betweenness_centrality_unnormalized.values()))"
   ]
  },
  {
   "cell_type": "code",
   "execution_count": null,
   "metadata": {
    "pycharm": {
     "name": "#%%\n"
    }
   },
   "outputs": [],
   "source": [
    "# sort betweenness centrality to take highest values\n",
    "# sortedByBetweennessCentrality = dict(sorted(betweenness_centrality.items(), key=lambda item: item[1], reverse=True))\n",
    "# df_betweennesscentrality = df_centralities.nlargest(n=10, columns='betweenness_centrality')"
   ]
  },
  {
   "cell_type": "code",
   "execution_count": null,
   "metadata": {
    "pycharm": {
     "name": "#%%\n"
    }
   },
   "outputs": [],
   "source": [
    "df_centralities.index.name = 'Airport ID'\n",
    "df_airports.set_index(['Airport ID'], inplace=True)\n",
    "df_airports.index = df_airports.index.astype(int)\n",
    "df_centralities.index = df_centralities.index.astype(int)"
   ]
  },
  {
   "cell_type": "code",
   "execution_count": null,
   "metadata": {
    "pycharm": {
     "name": "#%%\n"
    }
   },
   "outputs": [],
   "source": [
    "print(df_centralities.dtypes)\n",
    "print(df_airports.dtypes)\n",
    "\n",
    "df_1 = df_centralities.join(df_airports, how='left')"
   ]
  },
  {
   "cell_type": "code",
   "execution_count": null,
   "metadata": {
    "pycharm": {
     "name": "#%%\n"
    }
   },
   "outputs": [],
   "source": [
    "df_1 = df_1.nlargest(n=10, columns='betweenness_centrality')\n",
    "df_1.to_csv('airports_by_betweenness_centr.csv')"
   ]
  },
  {
   "cell_type": "code",
   "execution_count": null,
   "metadata": {
    "pycharm": {
     "name": "#%%\n"
    }
   },
   "outputs": [],
   "source": [
    "fig=plt.figure()\n",
    "\n",
    "bins = np.logspace(np.log10(min(betweenness_centrality.values())), np.log10(max(betweenness_centrality.values()) + 1), 30)\n",
    "plt.hist(betweenness_centrality.values(), bins=25, density=True)\n",
    "plt.xscale('log')\n",
    "plt.yscale('log')\n",
    "plt.show()"
   ]
  },
  {
   "cell_type": "code",
   "execution_count": null,
   "metadata": {
    "pycharm": {
     "name": "#%%\n"
    }
   },
   "outputs": [],
   "source": [
    "# G_DEGS = [GG.degree()[i] for i in GG.nodes()]\n",
    "# sns.kdeplot(G_DEGS)"
   ]
  }
 ],
 "metadata": {
  "kernelspec": {
   "display_name": "Python 3",
   "language": "python",
   "name": "python3"
  },
  "language_info": {
   "codemirror_mode": {
    "name": "ipython",
    "version": 3
   },
   "file_extension": ".py",
   "mimetype": "text/x-python",
   "name": "python",
   "nbconvert_exporter": "python",
   "pygments_lexer": "ipython3",
   "version": "3.8.12"
  }
 },
 "nbformat": 4,
 "nbformat_minor": 0
}
