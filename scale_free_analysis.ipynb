{
 "cells": [
  {
   "cell_type": "code",
   "execution_count": null,
   "metadata": {},
   "outputs": [],
   "source": [
    "import networkx as nx\n",
    "import matplotlib.pyplot as plt\n",
    "import powerlaw\n",
    "import numpy as np\n",
    "import seaborn as sns\n",
    "from collections import Counter\n",
    "from operator import itemgetter\n"
   ]
  },
  {
   "cell_type": "markdown",
   "metadata": {
    "pycharm": {
     "name": "#%% md\n"
    }
   },
   "source": [
    "## Scale Free Analysis"
   ]
  },
  {
   "cell_type": "code",
   "execution_count": null,
   "metadata": {
    "pycharm": {
     "name": "#%%\n"
    }
   },
   "outputs": [],
   "source": [
    "# read stored data from data_preparation notebook\n",
    "# @formatter:off\n",
    "%store -r df_airports\n",
    "%store -r airports_dict\n",
    "%store -r df_merged\n",
    "# @formatter:on\n",
    "GG = nx.read_gml('Graphs/airlines.gml')\n"
   ]
  },
  {
   "cell_type": "markdown",
   "metadata": {
    "pycharm": {
     "name": "#%% md\n"
    }
   },
   "source": [
    "    Produce Powerlaw fit of the degree distribution"
   ]
  },
  {
   "cell_type": "code",
   "execution_count": null,
   "metadata": {
    "pycharm": {
     "name": "#%%\n"
    }
   },
   "outputs": [],
   "source": [
    "## for in degree\n",
    "# GG_in_degree_dict = dict(GG.out_degree)\n",
    "GG_in_degree_dict = dict(GG.in_degree)\n",
    "G_DEGS = [ GG_in_degree_dict[i] for i in GG.nodes() ]\n",
    "# array with the degrees, sorted by node number\n",
    "G_DEGS_NO_ZERO = [x for x in G_DEGS if x > 0]\n",
    "\n",
    "## for \"regular\" degree\n",
    "# G_DEGS = [ GG.degree()[i] for i in GG.nodes() ]\n",
    "# array with the degrees, sorted by node number\n",
    "\n",
    "fit = powerlaw.Fit(G_DEGS, discrete=True)\n",
    "alpha = fit.power_law.alpha\n",
    "sigma = fit.power_law.sigma\n",
    "\n",
    "xx = np.arange(min(G_DEGS),max(G_DEGS))\n",
    "\n",
    "fig, ax = plt.subplots(dpi=300)\n",
    "plt.xlabel(\"In-Degree $k$\")\n",
    "plt.ylabel(\"$P(k)$\")\n",
    "fit.power_law.plot_pdf(color='r', ax=ax, label=f'Power Law Fit ($\\gamma$={alpha:.2f})')\n",
    "powerlaw.plot_pdf(G_DEGS_NO_ZERO, color=\"b\", marker=\"o\", label=\"data points (binned)\")\n",
    "plt.legend()\n",
    "plt.savefig(f'Figures/SF_powerlaw_fit.pdf', dpi=600)\n",
    "plt.title(\"Powerlaw Fit (discrete) for Air Traffic Network\")\n",
    "plt.show()\n",
    "\n",
    "print(\"\\n\\nalpha (gamma in slides) :=\", alpha)\n",
    "print(\"sigma (error) :=\", sigma)\n"
   ]
  },
  {
   "cell_type": "markdown",
   "metadata": {
    "pycharm": {
     "name": "#%% md\n"
    }
   },
   "source": [
    "## BA Null Model\n",
    "###  Compare degree distirution of airtraffic with BA null model\n",
    "#### Construct undirect BA"
   ]
  },
  {
   "cell_type": "code",
   "execution_count": null,
   "metadata": {
    "pycharm": {
     "name": "#%%\n"
    }
   },
   "outputs": [],
   "source": [
    "# define parameters, N, m\n",
    "N = GG.number_of_nodes()\n",
    "# m := avg degree\n",
    "m = int(nx.number_of_edges(GG) / float(GG.number_of_nodes()))"
   ]
  },
  {
   "cell_type": "code",
   "execution_count": null,
   "metadata": {
    "pycharm": {
     "name": "#%%\n"
    }
   },
   "outputs": [],
   "source": [
    "G_BA = nx.barabasi_albert_graph(N, m)\n",
    "\n",
    "# convert to directed\n",
    "GD_BA = nx.DiGraph()\n",
    "\n",
    "# add nodes\n",
    "for node in GG.nodes:\n",
    "    GD_BA.add_node(node)\n",
    "\n",
    "# add edges -> direction driven by random drawn with wieghts, taking into account\n",
    "# the degrees of the two nodes\n",
    "g_degrees = nx.degree(G_BA)\n",
    "g_degrees_dict = dict(g_degrees)\n",
    "for edge in G_BA.edges:\n",
    "    node_a = edge[0]\n",
    "    node_b = edge[1]\n",
    "\n",
    "    deg_na = g_degrees_dict[node_a]\n",
    "    deg_nb = g_degrees_dict[node_b]\n",
    "\n",
    "    # probability proportional to degree comparison\n",
    "    deg_total = deg_na + deg_nb\n",
    "    # p(b->a) = deg_na/deg_total, p(a->b) = deg_nb/deg_total\n",
    "    # so we split the space of probability into two sections proportional to the degrees\n",
    "    rn = np.random.uniform(0,1)\n",
    "    if rn <= (deg_na/deg_total):\n",
    "        # b -> a\n",
    "        GD_BA.add_edge(node_b, node_a)\n",
    "    else:\n",
    "        # a -> b\n",
    "        GD_BA.add_edge(node_a, node_b)\n"
   ]
  },
  {
   "cell_type": "code",
   "execution_count": null,
   "metadata": {
    "pycharm": {
     "name": "#%%\n"
    }
   },
   "outputs": [],
   "source": [
    "# calculate BA graph metrics for plots\n",
    "# GG_BA_in_degree_dict = dict(GD_BA.out_degree)\n",
    "GG_BA_in_degree_dict = dict(GD_BA.in_degree)\n",
    "GD_BA_DEGS = [ GG_BA_in_degree_dict[i] for i in GD_BA.nodes() ]\n",
    "# for regular degrees\n",
    "# GD_BA_DEGS = [ GD_BA.degree()[i] for i in GD_BA.nodes() ]\n",
    "GD_BA_degree_counts = Counter(GD_BA_DEGS)"
   ]
  },
  {
   "cell_type": "code",
   "execution_count": null,
   "metadata": {
    "pycharm": {
     "name": "#%%\n"
    }
   },
   "outputs": [],
   "source": [
    "degree_counts = Counter(G_DEGS)\n",
    "x, y = zip(*degree_counts.items())\n",
    "x_BA, y_BA = zip(*GD_BA_degree_counts.items())\n",
    "\n",
    "fig3 = plt.figure(dpi=300)\n",
    "\n",
    "# prep axes\n",
    "plt.xlabel('In-degree $k$')\n",
    "plt.xscale('log')\n",
    "\n",
    "plt.ylabel('counts of $k$')\n",
    "plt.yscale('log')\n",
    "\n",
    "plt.scatter(x, y, marker='.', label='Air Traffic Network', alpha=0.5)\n",
    "plt.scatter(x_BA, y_BA, marker='.', label='directed BA null model', alpha=0.5)\n",
    "plt.legend()\n",
    "plt.savefig(f'Figures/SF_degree_frequency_comparison.pdf', dpi=600)\n",
    "plt.title('Degree Frequency Comparison')                                                                                                                                 # do plot\n",
    "plt.show()"
   ]
  },
  {
   "cell_type": "code",
   "execution_count": null,
   "metadata": {
    "pycharm": {
     "name": "#%%\n"
    }
   },
   "outputs": [],
   "source": [
    "#NOTE: if we want to use the pdfs, we have to do them as histograms, because\n",
    "# we go into the negative degrees with the kde smoothing!\n",
    "\n",
    "fig4 = plt.figure(dpi=300)\n",
    "ax = sns.kdeplot(GD_BA_DEGS, label=\"directed BA null model\")\n",
    "ax = sns.kdeplot(G_DEGS, ax=ax, label=\"Air Traffic network\")\n",
    "plt.legend()\n",
    "plt.ylabel(\"$p(k)$\")\n",
    "plt.xlabel(\"In-degree $k$\")\n",
    "plt.savefig(f'Figures/SF_pdf_comparison.pdf', dpi=600)\n",
    "plt.title(\"comparison of PDFs\")\n",
    "plt.show()"
   ]
  },
  {
   "cell_type": "markdown",
   "metadata": {
    "pycharm": {
     "name": "#%% md\n"
    }
   },
   "source": [
    "### Interpretation\n",
    "\n",
    "<b>Power Law Fit</b>: gamma(=alpha) is somewhat smaller than the range for scale-free networks we saw in class,\n",
    "but we could say it is still sufficiently close. Additionally, the power-law fit is quite good (sigma of approx. 0.014).\n",
    "\n",
    "<b>in degree counts</b>: The null model we built using Barabasi-Albert as basis and then assigning directions based on chance\n",
    "influenced by the degrees of the nodes, shows data that is similar to what we observe in our air traffic network. Because\n",
    "we know that the BA model produces scale-free networks, we can thus deduce that our air traffic network is scale-free as well.\n",
    "\n",
    "<b>in degree PDF comparison</b>: similarly, the comparison of the PDFs shows that the null model has a slightly narrower\n",
    "(and consequently higher) curve than the air traffic network, but the location of the distribution as well as the\n",
    "overall characteristics in terms of shape are definitively comparable, further hinting at the fact that the air-traffic\n",
    "network is scale-free.\n",
    "\n",
    "<b>applied to air ports context</b>: applying the findings to the context of airports, we can now say that there appears\n",
    "to be some form of preferential attachment, where airports which are alerady central (i.e., act as the main hubs -> highest\n",
    "degrees) are more likely to see higher amounts of incoming flights (i.e., in degrees) than less central airports.\n",
    "\n",
    "One could for example see this coming into play when travelling longer distances internationally, when the start and end\n",
    "airports are small provincial airports. It is likely in such a scenario (in both directions) one would first have to make\n",
    "a stop at a large \"central\" airport, from where one would fly to another large \"central\" airport close the provincial\n",
    "airport one would like to ultimately travel to.\n",
    "<i>could also be central->central->provicial <b>or</b> provincial->central->central</i>\n"
   ]
  }
 ],
 "metadata": {
  "kernelspec": {
   "display_name": "Python 3",
   "language": "python",
   "name": "python3"
  },
  "language_info": {
   "codemirror_mode": {
    "name": "ipython",
    "version": 2
   },
   "file_extension": ".py",
   "mimetype": "text/x-python",
   "name": "python",
   "nbconvert_exporter": "python",
   "pygments_lexer": "ipython2",
   "version": "2.7.6"
  }
 },
 "nbformat": 4,
 "nbformat_minor": 0
}
