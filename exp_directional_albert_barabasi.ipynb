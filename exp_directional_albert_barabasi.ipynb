{
 "cells": [
  {
   "cell_type": "markdown",
   "metadata": {
    "pycharm": {
     "name": "#%% md\n"
    }
   },
   "source": [
    "## Experimental\n",
    "#### Alber Barabasi with randomized directional edges"
   ]
  },
  {
   "cell_type": "code",
   "execution_count": null,
   "metadata": {
    "pycharm": {
     "name": "#%%\n"
    }
   },
   "outputs": [],
   "source": [
    "import networkx as nx\n",
    "import matplotlib.pyplot as plt\n",
    "import random\n"
   ]
  },
  {
   "cell_type": "code",
   "execution_count": null,
   "metadata": {
    "pycharm": {
     "name": "#%%\n"
    }
   },
   "outputs": [],
   "source": [
    "# parameters\n",
    "# N = 15\n",
    "# m = 2\n",
    "N = 60\n",
    "m = 3\n"
   ]
  },
  {
   "cell_type": "markdown",
   "metadata": {
    "pycharm": {
     "name": "#%% md\n"
    }
   },
   "source": [
    "## Basic AB graph"
   ]
  },
  {
   "cell_type": "code",
   "execution_count": null,
   "metadata": {
    "pycharm": {
     "name": "#%%\n"
    }
   },
   "outputs": [],
   "source": [
    "G = nx.barabasi_albert_graph(N, m)\n",
    "nx.draw(G)\n",
    "g_nr_nodes = nx.number_of_nodes(G)\n",
    "g_nr_edges = nx.number_of_edges(G)\n",
    "g_is_dir = nx.is_directed(G)\n",
    "g_degrees = nx.degree(G)\n",
    "g_degrees_sorted = sorted(g_degrees, key=lambda tup: tup[1], reverse=True)"
   ]
  },
  {
   "cell_type": "markdown",
   "metadata": {
    "pycharm": {
     "name": "#%% md\n"
    }
   },
   "source": [
    "#### Basic AB graph - Degree distribution"
   ]
  },
  {
   "cell_type": "code",
   "execution_count": null,
   "metadata": {
    "pycharm": {
     "name": "#%%\n"
    }
   },
   "outputs": [],
   "source": [
    "g_degrees_list = [tup[1] for tup in g_degrees]\n",
    "fig1 = plt.Figure(dpi=300)\n",
    "plt.hist(g_degrees_list)\n",
    "plt.show()"
   ]
  },
  {
   "cell_type": "markdown",
   "metadata": {
    "pycharm": {
     "name": "#%% md\n"
    }
   },
   "source": [
    "***\n",
    "## Convert AB to directed"
   ]
  },
  {
   "cell_type": "code",
   "execution_count": null,
   "metadata": {
    "pycharm": {
     "name": "#%%\n"
    }
   },
   "outputs": [],
   "source": [
    "# add all nodes\n",
    "\n",
    "GD = nx.DiGraph()\n",
    "\n",
    "for node in G.nodes:\n",
    "    GD.add_node(node)"
   ]
  },
  {
   "cell_type": "code",
   "execution_count": null,
   "metadata": {
    "pycharm": {
     "name": "#%%\n"
    }
   },
   "outputs": [],
   "source": [
    "# inspect all edges in G\n",
    "# -> randomize direction and add to GD\n",
    "g_degrees_dict = dict(g_degrees)\n",
    "for edge in G.edges:\n",
    "    node_a = edge[0]\n",
    "    node_b = edge[1]\n",
    "\n",
    "    deg_na = g_degrees_dict[node_a]\n",
    "    deg_nb = g_degrees_dict[node_b]\n",
    "\n",
    "    # probability proportional to degree comparison\n",
    "    deg_total = deg_na + deg_nb\n",
    "    # p(a->b) = deg_na/deg_total, p(b->a) = deg_nb/deg_total\n",
    "    # so we split the space of probability into two sections proportional to the degrees\n",
    "    rn = random.uniform(0,1)\n",
    "    if rn <= (deg_na/deg_total):\n",
    "        # a -> b\n",
    "        GD.add_edge(node_a, node_b)\n",
    "    else:\n",
    "        # b -> a\n",
    "        GD.add_edge(node_b, node_a)"
   ]
  },
  {
   "cell_type": "code",
   "execution_count": null,
   "metadata": {
    "pycharm": {
     "name": "#%%\n"
    }
   },
   "outputs": [],
   "source": [
    "nx.draw(GD)"
   ]
  },
  {
   "cell_type": "markdown",
   "metadata": {
    "pycharm": {
     "name": "#%% md\n"
    }
   },
   "source": [
    "#### Directed AB - Degree Distributions"
   ]
  },
  {
   "cell_type": "code",
   "execution_count": null,
   "metadata": {
    "pycharm": {
     "name": "#%%\n"
    }
   },
   "outputs": [],
   "source": [
    "gd_degrees_in = GD.in_degree\n",
    "gd_degrees_out = GD.out_degree\n",
    "gd_degrees = nx.degree(GD)\n",
    "# gd_degrees = GD.degree\n",
    "\n",
    "gd_in_degrees_list = [tup[1] for tup in gd_degrees_in]\n",
    "gd_out_degrees_list = [tup[1] for tup in gd_degrees_out]\n",
    "gd_degrees_list = [tup[1] for tup in gd_degrees]"
   ]
  },
  {
   "cell_type": "code",
   "execution_count": null,
   "metadata": {
    "pycharm": {
     "name": "#%%\n"
    }
   },
   "outputs": [],
   "source": [
    "fig2 = plt.Figure(dpi=300)\n",
    "plt.title(\"in degrees of directional AB\")\n",
    "plt.hist(gd_in_degrees_list)\n",
    "plt.show()"
   ]
  },
  {
   "cell_type": "code",
   "execution_count": null,
   "metadata": {
    "pycharm": {
     "name": "#%%\n"
    }
   },
   "outputs": [],
   "source": [
    "fig3 = plt.Figure(dpi=300)\n",
    "plt.title(\"out degrees of directional AB\")\n",
    "plt.hist(gd_out_degrees_list)\n",
    "plt.show()"
   ]
  },
  {
   "cell_type": "code",
   "execution_count": null,
   "metadata": {
    "pycharm": {
     "name": "#%%\n"
    }
   },
   "outputs": [],
   "source": [
    "fig4 = plt.Figure(dpi=300)\n",
    "plt.title(\"(what exactly???) degrees of directional AB\")\n",
    "plt.hist(gd_degrees_list)\n",
    "plt.show()\n",
    "\n",
    "# -> seems to mirror the distirbution of the graph before directionalization directly...\n",
    "\n"
   ]
  }
 ],
 "metadata": {
  "kernelspec": {
   "display_name": "Python 3",
   "language": "python",
   "name": "python3"
  },
  "language_info": {
   "codemirror_mode": {
    "name": "ipython",
    "version": 2
   },
   "file_extension": ".py",
   "mimetype": "text/x-python",
   "name": "python",
   "nbconvert_exporter": "python",
   "pygments_lexer": "ipython2",
   "version": "2.7.6"
  }
 },
 "nbformat": 4,
 "nbformat_minor": 0
}
