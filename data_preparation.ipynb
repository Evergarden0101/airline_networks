{
 "cells": [
  {
   "cell_type": "code",
   "execution_count": null,
   "metadata": {},
   "outputs": [],
   "source": [
    "import numpy as np\n",
    "import networkx as nx\n",
    "import pandas as pd"
   ]
  },
  {
   "cell_type": "code",
   "execution_count": null,
   "metadata": {
    "pycharm": {
     "name": "#%%\n"
    }
   },
   "outputs": [],
   "source": [
    "cols = ['Airport ID', 'Name', 'City', 'Country', 'IATA', 'ICAO', 'Latitude', 'Longitude', 'Altitude', 'Timezone', 'DST',\n",
    "        'TZ', 'Type', 'Source']\n",
    "\n",
    "df_airports = pd.read_table('Data/airports.dat', sep=',', names=cols)\n",
    "\n",
    "cols = ['Airline', 'Airline ID', 'Source Airport', 'Source Airport ID', 'Destination Airport', 'Destination Airport ID',\n",
    "        'Codeshare', 'Stops', 'Equipment']\n",
    "df_routes = pd.read_table('Data/routes.dat', sep=',', names=cols)"
   ]
  },
  {
   "cell_type": "code",
   "execution_count": null,
   "metadata": {
    "pycharm": {
     "name": "#%%\n"
    }
   },
   "outputs": [],
   "source": [
    "# remove all routes which have an intermediate stop\n",
    "df_routes.drop(df_routes[df_routes.Stops >= 1].index, inplace=True)\n",
    "\n",
    "# drop stops since is constant now, as well as equipment & codeshare\n",
    "df_routes.drop(columns=['Stops', 'Codeshare', 'Equipment', 'Airline'], inplace=True)\n",
    "\n",
    "# replace all invalid values with nan\n",
    "df_routes.replace('\\\\N', np.NaN, inplace=True)\n",
    "\n",
    "# drop all nan values that occur in source / destination ids\n",
    "df_routes.dropna(subset=['Source Airport ID', 'Destination Airport ID'], inplace=True)\n",
    "\n",
    "# drop columns from airports that are not needed\n",
    "df_airports.drop(columns=['City', 'Country', 'IATA', 'ICAO', 'Timezone', 'DST', 'TZ', 'Type', 'Source'], inplace=True)\n",
    "\n",
    "# convert dtypes to numeric for ids\n",
    "df_routes['Source Airport ID'] = pd.to_numeric(df_routes['Source Airport ID'])\n",
    "df_routes['Destination Airport ID'] = pd.to_numeric(df_routes['Destination Airport ID'])\n",
    "\n",
    "# merge both together for source airport data\n",
    "# no matches get dropped, e.g. 7167\n",
    "df = pd.merge(df_routes, df_airports, left_on='Source Airport ID', right_on='Airport ID')\n",
    "\n",
    "# drop source airport ID since redundant\n",
    "df.drop(columns=['Airport ID'], inplace=True)\n",
    "\n",
    "# rename columns for source airport\n",
    "df.rename(columns={'Name': 'Source Airport Name', 'Latitude': 'Source Latitude', 'Longitude': 'Source Longitude',\n",
    "                   'Altitude': 'Source Altitude'}, inplace=True)\n",
    "\n",
    "# merge both together for destination airport data\n",
    "# no matches get dropped\n",
    "df_merged = pd.merge(df, df_airports, left_on='Destination Airport ID', right_on='Airport ID')\n",
    "\n",
    "# drop source airport ID since redundant\n",
    "df_merged.drop(columns=['Airport ID'], inplace=True)\n",
    "\n",
    "# rename columns for destination airport\n",
    "df_merged.rename(columns={'Name': 'Destination Airport Name', 'Latitude': 'Destination Latitude',\n",
    "                          'Longitude': 'Destination Longitude', 'Altitude': 'Destination Altitude'}, inplace=True)"
   ]
  },
  {
   "cell_type": "code",
   "execution_count": null,
   "metadata": {
    "pycharm": {
     "name": "#%%\n"
    }
   },
   "outputs": [],
   "source": [
    "# read as directed graph\n",
    "G = nx.from_pandas_edgelist(df_merged, source='Source Airport ID', target='Destination Airport ID',\n",
    "                            create_using=nx.DiGraph)\n",
    "print(G.is_directed())"
   ]
  },
  {
   "cell_type": "code",
   "execution_count": null,
   "metadata": {
    "pycharm": {
     "name": "#%%\n"
    }
   },
   "outputs": [],
   "source": [
    "# read airport data as dict with ID as index so that we can assign node attributes\n",
    "airports_dict = df_airports.set_index('Airport ID').T.to_dict()\n",
    "\n",
    "# assign node attributes\n",
    "nx.set_node_attributes(G, airports_dict)\n",
    "\n",
    "# write graph data\n",
    "nx.write_gml(G, 'Graphs/airlines.gml')"
   ]
  }
 ],
 "metadata": {
  "kernelspec": {
   "display_name": "Python 3",
   "language": "python",
   "name": "python3"
  },
  "language_info": {
   "codemirror_mode": {
    "name": "ipython",
    "version": 2
   },
   "file_extension": ".py",
   "mimetype": "text/x-python",
   "name": "python",
   "nbconvert_exporter": "python",
   "pygments_lexer": "ipython2",
   "version": "2.7.6"
  }
 },
 "nbformat": 4,
 "nbformat_minor": 0
}
