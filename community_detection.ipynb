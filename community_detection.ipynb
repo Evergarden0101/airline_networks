{
 "cells": [
  {
   "cell_type": "code",
   "execution_count": null,
   "metadata": {
    "id": "O7sX-07nN1qe",
    "outputId": "f541e1cc-c44e-4c12-8405-13a9562f06d1"
   },
   "outputs": [],
   "source": [
    "# install dependencies\n",
    "!pip install python-louvain"
   ]
  },
  {
   "cell_type": "code",
   "execution_count": null,
   "metadata": {
    "id": "jKu2PE7QN1qg"
   },
   "outputs": [],
   "source": [
    "import random\n",
    "import numpy as np\n",
    "import matplotlib.pyplot as plt\n",
    "import matplotlib.cm as cm\n",
    "from mpl_toolkits.basemap import Basemap\n",
    "import networkx as nx\n",
    "import networkx.algorithms.community as nxcom\n",
    "import networkx.algorithms.approximation as nxapp\n",
    "from community import community_louvain\n",
    "from collections import Counter"
   ]
  },
  {
   "cell_type": "code",
   "execution_count": null,
   "metadata": {
    "id": "zryexJyCN1qi",
    "pycharm": {
     "name": "#%%\n"
    }
   },
   "outputs": [],
   "source": [
    "# read stored data from data_preparation notebook\n",
    "%store -r df_airports\n",
    "%store -r airports_dict\n",
    "%store -r df_merged"
   ]
  },
  {
   "cell_type": "code",
   "execution_count": null,
   "metadata": {
    "id": "gJoV0NFoN1qj"
   },
   "outputs": [],
   "source": [
    "# load network\n",
    "G = nx.read_gml('Graphs/airlines.gml')"
   ]
  },
  {
   "cell_type": "markdown",
   "metadata": {
    "id": "IxAVS8uyN1ql"
   },
   "source": [
    "# Network Properties"
   ]
  },
  {
   "cell_type": "markdown",
   "metadata": {
    "id": "Zur4-XT8N1qn"
   },
   "source": [
    "## Assortativity"
   ]
  },
  {
   "cell_type": "code",
   "execution_count": null,
   "metadata": {
    "id": "NxSvFJRZN1qo",
    "outputId": "a20c8a58-d83a-4752-b37e-e72fd4afc60c"
   },
   "outputs": [],
   "source": [
    "# compute assortativity\n",
    "assortativity = nx.degree_pearson_correlation_coefficient(G, weight=None)\n",
    "assortativity"
   ]
  },
  {
   "cell_type": "markdown",
   "metadata": {
    "id": "PhPImoc0N1qp"
   },
   "source": [
    "## Average Clustering Coefficient"
   ]
  },
  {
   "cell_type": "code",
   "execution_count": null,
   "metadata": {
    "id": "oOIEu4h7N1qq",
    "outputId": "fc99a3eb-9689-46c9-99ce-190f0c088df3"
   },
   "outputs": [],
   "source": [
    "# compute clustering coefficient\n",
    "avg_clustering = nx.average_clustering(G)\n",
    "avg_clustering"
   ]
  },
  {
   "cell_type": "markdown",
   "metadata": {
    "id": "fvUKEy8PN1qs"
   },
   "source": [
    "Airports with largest degrees"
   ]
  },
  {
   "cell_type": "code",
   "execution_count": null,
   "metadata": {
    "id": "mi0Fu3XtN1qt",
    "outputId": "7234175f-8c00-4b9f-9df8-2001ab38a1ff"
   },
   "outputs": [],
   "source": [
    "degree_list = sorted(G.degree, key=lambda x: x[1], reverse=True)\n",
    "print(\"Airports with largest degree:\\n\")\n",
    "for i,v in degree_list[:10]:\n",
    "    node = G.nodes[i]['Name']\n",
    "    print(f'{node}: {v}')"
   ]
  },
  {
   "cell_type": "markdown",
   "metadata": {
    "id": "1Zt093fcN1qu",
    "pycharm": {
     "name": "#%% md\n"
    }
   },
   "source": [
    "# Community Detection"
   ]
  },
  {
   "cell_type": "markdown",
   "metadata": {
    "id": "pKJjab37N1qv",
    "pycharm": {
     "name": "#%% md\n"
    }
   },
   "source": [
    "A community is a group of system constituents who share\n",
    "common properties and/or play similar roles within the\n",
    "system. Nodes within the same community tend to be connected\n",
    "with each other much more frequently within the community\n",
    "than with nodes outside"
   ]
  },
  {
   "cell_type": "markdown",
   "metadata": {
    "id": "QFcfAlkVN1qv",
    "pycharm": {
     "name": "#%% md\n"
    }
   },
   "source": [
    "We explore comminities withing the airline network with the following\n",
    "modularity based, random walk an other community detection algorithms:\n",
    "- Fast greedy (modularity based)\n",
    "- Multilevel (modularity based)\n",
    "- Walktrap (random walk)\n",
    "- Edge betweenness\n",
    "- Label propagation\n",
    "\n",
    "**Note:** The lecture mentions another algorithm, Leading eigenvector, which we\n",
    "will not further explore since it was mentioned that it is neither stable nor\n",
    "fast to compute.\n",
    "\n",
    "**Note:** The difficulty of this task is that we do not know the \"correct\" communities, therefore\n",
    "we cannot easily compare the performance of the algorithms. What we can do is to compare it with\n",
    "(a.) geographical location and (b.) with the resulting community detection performed by the\n",
    "reference paper. We can also reason about the actual computational performance of each\n",
    "algorithm and its stability which we can use for the discussion of the final report."
   ]
  },
  {
   "cell_type": "markdown",
   "metadata": {
    "id": "a-KA4MMeN1qx",
    "pycharm": {
     "name": "#%% md\n"
    }
   },
   "source": [
    "Networkx Reference: https://networkx.org/documentation/stable/reference/algorithms/community.html"
   ]
  },
  {
   "cell_type": "code",
   "execution_count": null,
   "metadata": {
    "id": "aKWZEk3eN1qx",
    "pycharm": {
     "name": "#%%\n"
    }
   },
   "outputs": [],
   "source": [
    "# compute random vertex color used for commmunity visualisation\n",
    "memory = {}\n",
    "def random_color(number, memory):\n",
    "    if not number in memory:\n",
    "        r = random.random()\n",
    "        g = random.random()\n",
    "        b = random.random()\n",
    "        memory[number] = (r, g, b, 1.0)\n",
    "    return memory[number]\n",
    "\n",
    "# draw community graphs\n",
    "def draw_community_graph(g, communities, with_labels=True):\n",
    "    plt.figure(figsize=(8,8))\n",
    "    # add community attribute\n",
    "    for set_idx, frozenset in enumerate(communities):\n",
    "        for node_idx in frozenset:\n",
    "            g.nodes[node_idx]['community'] = set_idx\n",
    "    # color mapping\n",
    "    color_map = [random_color(g.nodes[v]['community'], memory) for v in g.nodes]\n",
    "    nx.draw(g, with_labels=with_labels, node_color=color_map)\n",
    "    plt.show()"
   ]
  },
  {
   "cell_type": "markdown",
   "metadata": {
    "id": "zQOj0Hp1N1qx"
   },
   "source": [
    "## Fast greedy Algorithm"
   ]
  },
  {
   "cell_type": "markdown",
   "metadata": {
    "id": "24nkYDTqN1qy",
    "pycharm": {
     "name": "#%% md\n"
    }
   },
   "source": [
    "Bottom up hierarchical decomposition process. It will merge two current communities\n",
    "iteratively, with the goal to achieve the maximum modularity gain at local optimal."
   ]
  },
  {
   "cell_type": "code",
   "execution_count": null,
   "metadata": {
    "id": "SbATORKjN1qz",
    "outputId": "49abf584-61e5-46f7-cb1f-5fa80f749c46",
    "pycharm": {
     "name": "#%%\n"
    }
   },
   "outputs": [],
   "source": [
    "# load network\n",
    "G = nx.read_gml('Graphs/airlines.gml')\n",
    "# compute communities\n",
    "communities_greedy = sorted(nxcom.greedy_modularity_communities(G), key=len, reverse=True)\n",
    "#draw_community_graph(G, communities_greedy, with_labels=False)\n",
    "print(f'Fast greedy algorithm resulted in {len(communities_greedy)} communities')"
   ]
  },
  {
   "cell_type": "code",
   "execution_count": null,
   "metadata": {
    "id": "2mhZ_19xN1q0",
    "outputId": "13456104-3941-44c1-9ab8-265a007aac4b"
   },
   "outputs": [],
   "source": [
    "for i,c in enumerate(communities_greedy):\n",
    "    print(f'{i}: {len(c)}')"
   ]
  },
  {
   "cell_type": "code",
   "execution_count": null,
   "metadata": {
    "id": "y94V-X9KN1q1",
    "pycharm": {
     "name": "#%%\n"
    }
   },
   "outputs": [],
   "source": [
    "lats = [k[1]['Latitude'] for k in airports_dict.items()]\n",
    "longs = [k[1]['Longitude'] for k in airports_dict.items()]"
   ]
  },
  {
   "cell_type": "code",
   "execution_count": null,
   "metadata": {
    "id": "UCWGJsbzN1q1",
    "outputId": "217a676f-1caf-4929-ff43-aa13b5b840ee",
    "pycharm": {
     "name": "#%%\n"
    }
   },
   "outputs": [],
   "source": [
    "plt.figure(figsize=(20, 20))\n",
    "map = Basemap(projection='cyl', resolution=None,\n",
    "              llcrnrlat=-90, urcrnrlat=90,\n",
    "              llcrnrlon=-180, urcrnrlon=180)\n",
    "\n",
    "pos = {}\n",
    "for n in G.nodes():\n",
    "    x,y = map(G.nodes[n]['Longitude'], G.nodes[n]['Latitude'])\n",
    "    pos[n] = (x,y)\n",
    "\n",
    "# add community attribute\n",
    "for set_idx, frozenset in enumerate(communities_greedy):\n",
    "    for node_idx in frozenset:\n",
    "        G.nodes[node_idx]['community'] = set_idx\n",
    "# color mapping\n",
    "color_map = [random_color(G.nodes[v]['community'], memory) for v in G.nodes]\n",
    "# draw map\n",
    "map.shadedrelief()\n",
    "nx.draw_networkx(G, pos=pos, node_size=50, edge_color='r', node_color=color_map,\n",
    "                 arrows=False, with_labels=False, alpha=1, width=00, node_shape='.')\n",
    "plt.title('Air Traffic Communities (Greedy Modularity Algorithm)')\n",
    "plt.savefig('Figures/communities/gma.pdf')\n",
    "plt.show()"
   ]
  },
  {
   "cell_type": "markdown",
   "metadata": {
    "id": "tT_nSoB9N1q2"
   },
   "source": [
    "## Multilevel Algorithm"
   ]
  },
  {
   "cell_type": "markdown",
   "metadata": {
    "id": "bKodv1bwN1q2",
    "pycharm": {
     "name": "#%% md\n"
    }
   },
   "source": [
    "**Idea:** Merge smaller partitions into larger ones as long as the modularity score improves."
   ]
  },
  {
   "cell_type": "code",
   "execution_count": null,
   "metadata": {
    "id": "qY65ixZdN1q3"
   },
   "outputs": [],
   "source": [
    "# load network\n",
    "G = nx.read_gml('Graphs/airlines.gml').to_undirected()"
   ]
  },
  {
   "cell_type": "code",
   "execution_count": null,
   "metadata": {
    "id": "PewSLgMON1q3",
    "outputId": "49de6a91-606f-4686-9467-5a87f10c7362",
    "pycharm": {
     "name": "#%%\n"
    }
   },
   "outputs": [],
   "source": [
    "#plt.figure(figsize=(8, 6))\n",
    "communities_ml = community_louvain.best_partition(G)\n",
    " # draw the graph\n",
    "#pos = nx.spring_layout(G)\n",
    "# color the nodes according to their partition\n",
    "#cmap = cm.get_cmap('viridis', max(communities_ml.values()) + 1)\n",
    "#nx.draw_networkx_nodes(G, pos, communities_ml.keys(), cmap=cmap, node_color=list(communities_ml.values()))\n",
    "#nx.draw_networkx_edges(G, pos, alpha=0.5)\n",
    "#plt.show()\n",
    "count = Counter(communities_ml.values())\n",
    "print(f'Multilevel algorithm resulted in {len(count)} communities')"
   ]
  },
  {
   "cell_type": "code",
   "execution_count": null,
   "metadata": {
    "id": "_v97XRU4N1q4",
    "outputId": "77e1c229-dfc6-4d04-d75a-3a3e5da3e4d7"
   },
   "outputs": [],
   "source": [
    "count"
   ]
  },
  {
   "cell_type": "code",
   "execution_count": null,
   "metadata": {
    "id": "6Y7mljovN1q4",
    "outputId": "c12ded3d-0c2c-48a8-d474-2c89e4bc2112"
   },
   "outputs": [],
   "source": [
    "plt.figure(figsize=(20, 20))\n",
    "map = Basemap(projection='cyl', resolution=None,\n",
    "              llcrnrlat=-90, urcrnrlat=90,\n",
    "              llcrnrlon=-180, urcrnrlon=180, )\n",
    "\n",
    "pos = {}\n",
    "for n in G.nodes():\n",
    "    x,y = map(G.nodes[n]['Longitude'], G.nodes[n]['Latitude'])\n",
    "    pos[n] = (x,y)\n",
    "\n",
    "# set community attribute\n",
    "for k in communities_ml:\n",
    "    G.nodes[str(k)]['community'] = communities_ml[str(k)]\n",
    "\n",
    "# color mapping\n",
    "color_map = [random_color(G.nodes[v]['community'], memory) for v in G.nodes]\n",
    "# draw map\n",
    "map.shadedrelief()\n",
    "nx.draw_networkx(G, pos=pos, node_size=50, edge_color='r', node_color=color_map,\n",
    "                 arrows=False, with_labels=False, alpha=1, width=00, node_shape='.')\n",
    "plt.title('Air Traffic Communities (Multilabel Algorithm)')\n",
    "plt.savefig('Figures/communities/mla.pdf')\n",
    "plt.show()"
   ]
  },
  {
   "cell_type": "markdown",
   "metadata": {
    "id": "RAVF_eCwN1q5"
   },
   "source": [
    "## Edge Betweenness Algorithm"
   ]
  },
  {
   "cell_type": "markdown",
   "metadata": {
    "id": "zxfL_F_4N1q5",
    "pycharm": {
     "name": "#%% md\n"
    }
   },
   "source": [
    "**Idea:** Detect communities by progressively removing edges with the highest edge\n",
    " betweenness centrality from the original network"
   ]
  },
  {
   "cell_type": "markdown",
   "metadata": {
    "id": "pzOzR7ceN1q5"
   },
   "source": [
    "*Note:* This algorithm takes too long to compute!"
   ]
  },
  {
   "cell_type": "code",
   "execution_count": null,
   "metadata": {
    "id": "0DqkXgUEN1q6",
    "outputId": "089bc9aa-1e10-4cf3-95ab-00f45b21b0eb",
    "pycharm": {
     "name": "#%%\n"
    }
   },
   "outputs": [],
   "source": [
    "# load network\n",
    "G = nx.read_gml('Graphs/airlines.gml')\n",
    "# compute communities\n",
    "communities_eb = sorted(nxcom.girvan_newman(G), key=len, reverse=True)\n",
    "#draw_community_graph(G, communities_eb, with_labels=False)\n",
    "print(f'Edge betweenness algorithm resulted in {len(communities_eb)} communities')"
   ]
  },
  {
   "cell_type": "code",
   "execution_count": null,
   "metadata": {
    "id": "0jNKbU-AN1q6",
    "outputId": "917e5263-fbad-49bc-99df-35f44d97fed8"
   },
   "outputs": [],
   "source": [
    "for i,c in enumerate(communities_eb):\n",
    "    print(f'{i}: {len(c)}')"
   ]
  },
  {
   "cell_type": "code",
   "execution_count": null,
   "metadata": {
    "id": "SB5mJ6KwN1q7",
    "pycharm": {
     "name": "#%%\n"
    }
   },
   "outputs": [],
   "source": [
    "plt.figure(figsize=(20, 20))\n",
    "map = Basemap(projection='cyl', resolution=None,\n",
    "              llcrnrlat=-90, urcrnrlat=90,\n",
    "              llcrnrlon=-180, urcrnrlon=180, )\n",
    "\n",
    "pos = {}\n",
    "for n in G.nodes():\n",
    "    x,y = map(G.nodes[n]['Longitude'], G.nodes[n]['Latitude'])\n",
    "    pos[n] = (x,y)\n",
    "\n",
    "# add community attribute\n",
    "for set_idx, frozenset in enumerate(communities_eb):\n",
    "    for node_idx in frozenset:\n",
    "        G.nodes[node_idx]['community'] = set_idx\n",
    "# color mapping\n",
    "color_map = [random_color(G.nodes[v]['community'], memory) for v in G.nodes]\n",
    "# draw map\n",
    "map.shadedrelief()\n",
    "nx.draw_networkx(G, pos=pos, node_size=50, edge_color='r', node_color=color_map,\n",
    "                 arrows=False, with_labels=False, alpha=1, width=00, node_shape='.')\n",
    "plt.title('Air Traffic Communities (Edge Betweenness Algorithm)')\n",
    "plt.savefig('Figures/communities/eba.pdf')\n",
    "plt.show()"
   ]
  },
  {
   "cell_type": "markdown",
   "metadata": {
    "id": "GEDlVGHiN1q8",
    "pycharm": {
     "name": "#%% md\n"
    }
   },
   "source": [
    "## Label Propagation Algorithm"
   ]
  },
  {
   "cell_type": "markdown",
   "metadata": {
    "id": "WE6VcCgAN1q8",
    "pycharm": {
     "name": "#%% md\n"
    }
   },
   "source": [
    "**Idea:** Assign each node in the network to the community to which belongs the majority\n",
    "of its neighbours."
   ]
  },
  {
   "cell_type": "code",
   "execution_count": null,
   "metadata": {
    "id": "fdbI1Y0IN1q8",
    "outputId": "49a3e182-53b7-40e8-cfbd-89485968f68a",
    "pycharm": {
     "name": "#%%\n"
    }
   },
   "outputs": [],
   "source": [
    "# load network\n",
    "G = nx.read_gml('Graphs/airlines.gml').to_undirected()\n",
    "# compute communities\n",
    "communities_lp = sorted(nxcom.label_propagation_communities(G), key=len, reverse=True)\n",
    "#draw_community_graph(G, communities_lp, with_labels=False)\n",
    "print(f'Label propagation algorithm resulted in {len(communities_lp)} communities')"
   ]
  },
  {
   "cell_type": "code",
   "execution_count": null,
   "metadata": {
    "id": "umMv1CKWN1q9",
    "outputId": "fe60f4f4-c50d-4227-8883-b999696a0285"
   },
   "outputs": [],
   "source": [
    "for i,c in enumerate(communities_lp):\n",
    "    print(f'{i}: {len(c)}')"
   ]
  },
  {
   "cell_type": "code",
   "execution_count": null,
   "metadata": {
    "id": "DdwGZn78N1q9",
    "outputId": "21656ee9-cd12-41e4-c312-b7375bc784ae",
    "pycharm": {
     "name": "#%%\n"
    }
   },
   "outputs": [],
   "source": [
    "plt.figure(figsize=(20, 20))\n",
    "map = Basemap(projection='cyl', resolution=None,\n",
    "              llcrnrlat=-90, urcrnrlat=90,\n",
    "              llcrnrlon=-180, urcrnrlon=180, )\n",
    "\n",
    "pos = {}\n",
    "for n in G.nodes():\n",
    "    x,y = map(G.nodes[n]['Longitude'], G.nodes[n]['Latitude'])\n",
    "    pos[n] = (x,y)\n",
    "\n",
    "# add community attribute\n",
    "for set_idx, frozenset in enumerate(communities_lp):\n",
    "    for node_idx in frozenset:\n",
    "        G.nodes[node_idx]['community'] = set_idx\n",
    "# color mapping\n",
    "color_map = [random_color(G.nodes[v]['community'], memory) for v in G.nodes]\n",
    "# draw map\n",
    "map.shadedrelief()\n",
    "nx.draw_networkx(G, pos=pos, node_size=50, edge_color='r', node_color=color_map,\n",
    "                 arrows=False, with_labels=False, alpha=1, width=00, node_shape='.')\n",
    "plt.title('Air Traffic Communities (Label Propagation Algorithm)')\n",
    "plt.savefig('Figures/communities/lpa.pdf')\n",
    "plt.show()"
   ]
  }
 ],
 "metadata": {
  "colab": {
   "name": "community_detection.ipynb",
   "provenance": []
  },
  "kernelspec": {
   "display_name": "Python [conda env:root]",
   "language": "python",
   "name": "conda-root-py"
  },
  "language_info": {
   "codemirror_mode": {
    "name": "ipython",
    "version": 3
   },
   "file_extension": ".py",
   "mimetype": "text/x-python",
   "name": "python",
   "nbconvert_exporter": "python",
   "pygments_lexer": "ipython3",
   "version": "3.9.7"
  }
 },
 "nbformat": 4,
 "nbformat_minor": 0
}
