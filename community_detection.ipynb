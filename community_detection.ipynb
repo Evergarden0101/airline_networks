{
 "cells": [
  {
   "cell_type": "code",
   "execution_count": null,
   "metadata": {},
   "outputs": [],
   "source": [
    "import random\n",
    "import numpy as np\n",
    "import matplotlib.pyplot as plt\n",
    "import matplotlib.cm as cm\n",
    "from mpl_toolkits.basemap import Basemap\n",
    "import networkx as nx\n",
    "import networkx.algorithms.community as nxcom\n",
    "import networkx.algorithms.approximation as nxapp\n",
    "import community as community_louvain\n",
    "from igraph import *\n",
    "#from cdlib import algorithms"
   ]
  },
  {
   "cell_type": "code",
   "execution_count": null,
   "metadata": {
    "pycharm": {
     "name": "#%%\n"
    }
   },
   "outputs": [],
   "source": [
    "# read stored data from data_preparation notebook\n",
    "%store -r df_airports\n",
    "%store -r airports_dict\n",
    "%store -r df_merged"
   ]
  },
  {
   "cell_type": "markdown",
   "metadata": {
    "pycharm": {
     "name": "#%% md\n"
    }
   },
   "source": [
    "# Community Detection"
   ]
  },
  {
   "cell_type": "code",
   "execution_count": null,
   "metadata": {
    "pycharm": {
     "name": "#%%\n"
    }
   },
   "outputs": [],
   "source": [
    "# load network (for networkx and igraph)\n",
    "G = nx.read_gml('Graphs/airlines.gml').to_undirected()\n",
    "#g = Graph.Read_GML('Graphs/airlines.gml').as_undirected()"
   ]
  },
  {
   "cell_type": "code",
   "execution_count": null,
   "metadata": {
    "pycharm": {
     "name": "#%%\n"
    }
   },
   "outputs": [],
   "source": [
    "# compute assortativity\n",
    "assortativity = nx.degree_pearson_correlation_coefficient(G, weight=None)\n",
    "assortativity"
   ]
  },
  {
   "cell_type": "markdown",
   "metadata": {
    "pycharm": {
     "name": "#%% md\n"
    }
   },
   "source": [
    "A community is a group of system constituents who share\n",
    "common properties and/or play similar roles within the\n",
    "system. Nodes within the same community tend to be connected\n",
    "with each other much more frequently within the community\n",
    "than with nodes outside"
   ]
  },
  {
   "cell_type": "markdown",
   "metadata": {
    "pycharm": {
     "name": "#%% md\n"
    }
   },
   "source": [
    "We explore comminities withing the airline network with the following\n",
    "modularity based, random walk an other community detection algorithms:\n",
    "- Fast greedy (modularity based)\n",
    "- Multilevel (modularity based)\n",
    "- Walktrap (random walk)\n",
    "- Edge betweenness\n",
    "- Label propagation\n",
    "\n",
    "**Note:** The lecture mentions another algorithm, Leading eigenvector, which we\n",
    "will not further explore since it was mentioned that it is neither stable nor\n",
    "fast to compute.\n",
    "\n",
    "**Note:** The difficulty of this task is that we do not know the \"correct\" communities, therefore\n",
    "we cannot easily compare the performance of the algorithms. What we can do is to compare it with\n",
    "(a.) geographical location and (b.) with the resulting community detection performed by the\n",
    "reference paper. We can also reason about the actual computational performance of each\n",
    "algorithm and its stability which we can use for the discussion of the final report."
   ]
  },
  {
   "cell_type": "markdown",
   "metadata": {
    "pycharm": {
     "name": "#%% md\n"
    }
   },
   "source": [
    "Networkx Reference: https://networkx.org/documentation/stable/reference/algorithms/community.html"
   ]
  },
  {
   "cell_type": "code",
   "execution_count": null,
   "metadata": {
    "pycharm": {
     "name": "#%%\n"
    }
   },
   "outputs": [],
   "source": [
    "# compute random vertex color used for commmunity visualisation\n",
    "memory = {}\n",
    "def random_color(number, memory):\n",
    "    if not number in memory:\n",
    "        r = random.random()\n",
    "        g = random.random()\n",
    "        b = random.random()\n",
    "        memory[number] = (r, g, b, 1.0)\n",
    "    return memory[number]\n",
    "\n",
    "# draw community graphs\n",
    "def draw_community_graph(g, communities, with_labels=True):\n",
    "    plt.figure(figsize=(8,8))\n",
    "    # add community attribute\n",
    "    for set_idx, frozenset in enumerate(communities):\n",
    "        for node_idx in frozenset:\n",
    "            g.nodes[node_idx]['community'] = set_idx\n",
    "    # color mapping\n",
    "    color_map = [random_color(g.nodes[v]['community'], memory) for v in g.nodes]\n",
    "    nx.draw(g, with_labels=with_labels, node_color=color_map)\n",
    "    plt.show()"
   ]
  },
  {
   "cell_type": "markdown",
   "metadata": {},
   "source": [
    "## Fast greedy Algorithm"
   ]
  },
  {
   "cell_type": "markdown",
   "metadata": {
    "pycharm": {
     "name": "#%% md\n"
    }
   },
   "source": [
    "Bottom up hierarchical decomposition process. It will merge two current communities\n",
    "iteratively, with the goal to achieve the maximum modularity gain at local optimal."
   ]
  },
  {
   "cell_type": "code",
   "execution_count": null,
   "metadata": {
    "pycharm": {
     "name": "#%%\n"
    }
   },
   "outputs": [],
   "source": [
    "communities_greedy = sorted(nxcom.greedy_modularity_communities(G), key=len, reverse=True)\n",
    "draw_community_graph(G, communities_greedy, with_labels=False)\n",
    "print(f'Fast greedy algorithm resulted in {len(communities_greedy)} communities')"
   ]
  },
  {
   "cell_type": "code",
   "execution_count": null,
   "metadata": {
    "pycharm": {
     "name": "#%%\n"
    }
   },
   "outputs": [],
   "source": [
    "lats = [k[1]['Latitude'] for k in airports_dict.items()]\n",
    "longs = [k[1]['Longitude'] for k in airports_dict.items()]"
   ]
  },
  {
   "cell_type": "code",
   "execution_count": null,
   "metadata": {
    "pycharm": {
     "name": "#%%\n"
    }
   },
   "outputs": [],
   "source": [
    "plt.figure(figsize=(20, 20))\n",
    "map = Basemap(projection='cyl', resolution=None,\n",
    "              llcrnrlat=-90, urcrnrlat=90,\n",
    "              llcrnrlon=-180, urcrnrlon=180, )\n",
    "\n",
    "pos = {}\n",
    "for n in G.nodes():\n",
    "    x,y = map(G.nodes[n]['Longitude'], G.nodes[n]['Latitude'])\n",
    "    pos[n] = (x,y)\n",
    "\n",
    "# add community attribute\n",
    "for set_idx, frozenset in enumerate(communities_greedy):\n",
    "    for node_idx in frozenset:\n",
    "        G.nodes[node_idx]['community'] = set_idx\n",
    "# color mapping\n",
    "color_map = [random_color(G.nodes[v]['community'], memory) for v in G.nodes]\n",
    "# draw map\n",
    "map.shadedrelief()\n",
    "nx.draw_networkx(G, pos=pos, node_size=50, edge_color='r', node_color=color_map,\n",
    "                 arrows=False, with_labels=False, alpha=1, width=00, node_shape='.')\n",
    "plt.title('Air Traffic Communities (Greedy Modularity Algorithm)')\n",
    "plt.savefig('Figures/communities/gma.pdf')\n",
    "plt.show()"
   ]
  },
  {
   "cell_type": "markdown",
   "metadata": {},
   "source": [
    "## Multilevel Algorithm"
   ]
  },
  {
   "cell_type": "markdown",
   "metadata": {
    "pycharm": {
     "name": "#%% md\n"
    }
   },
   "source": [
    "**Idea:** Merge smaller partitions into larger ones as long as the modularity score improves."
   ]
  },
  {
   "cell_type": "code",
   "execution_count": null,
   "metadata": {
    "pycharm": {
     "name": "#%%\n"
    }
   },
   "outputs": [],
   "source": [
    "plt.figure(figsize=(8, 6))\n",
    "communities = community_louvain.best_partition(G)\n",
    " # draw the graph\n",
    "pos = nx.spring_layout(G)\n",
    "# color the nodes according to their partition\n",
    "cmap = cm.get_cmap('viridis', max(partition.values()) + 1)\n",
    "nx.draw_networkx_nodes(G, pos, partition.keys(), cmap=cmap, node_color=list(partition.values()))\n",
    "nx.draw_networkx_edges(G, pos, alpha=0.5)\n",
    "plt.show()"
   ]
  },
  {
   "cell_type": "code",
   "execution_count": null,
   "metadata": {
    "pycharm": {
     "name": "#%%\n"
    }
   },
   "outputs": [],
   "source": [
    "communities_ml = g.community_multilevel()\n",
    "# create nodelist with its community (to be zipped)\n",
    "nodelist = []\n",
    "communitylist = []\n",
    "# fill dict\n",
    "comm_idx = 0\n",
    "for c in communities_ml:\n",
    "    for e in c:\n",
    "        nodelist.append(e)\n",
    "        communitylist.append(c)\n",
    "    comm_idx +=1"
   ]
  },
  {
   "cell_type": "code",
   "execution_count": null,
   "metadata": {
    "pycharm": {
     "name": "#%%\n"
    }
   },
   "outputs": [],
   "source": [
    "# attach community information\n",
    "for n,c in zip(nodelist, communitylist):\n",
    "    try:\n",
    "        G.nodes[n]['community'] = c\n",
    "    except KeyError:\n",
    "        pass # ignore?"
   ]
  },
  {
   "cell_type": "code",
   "execution_count": null,
   "metadata": {
    "pycharm": {
     "name": "#%%\n"
    }
   },
   "outputs": [],
   "source": [
    "#for x in G.nodes:\n",
    "#    print(G.nodes[x]['community'])\n",
    "G.nodes[2369]['community']"
   ]
  },
  {
   "cell_type": "code",
   "execution_count": null,
   "metadata": {
    "pycharm": {
     "name": "#%%\n"
    }
   },
   "outputs": [],
   "source": [
    "color_map = [get_color(G.nodes[v]['community']) for v in G.nodes]\n",
    "nx.draw(G, with_labels=False, node_color=color_map)\n",
    "plt.show()"
   ]
  },
  {
   "cell_type": "code",
   "execution_count": null,
   "metadata": {
    "pycharm": {
     "name": "#%%\n"
    }
   },
   "outputs": [],
   "source": [
    "plot(communities_ml, mark_groups = True)"
   ]
  },
  {
   "cell_type": "code",
   "execution_count": null,
   "metadata": {
    "pycharm": {
     "name": "#%%\n"
    }
   },
   "outputs": [],
   "source": [
    "patritions = sorted(community_louvain.best_partition(G), key=len, reverse=True)\n",
    "draw_community_graph(G, patritions)"
   ]
  },
  {
   "cell_type": "markdown",
   "metadata": {},
   "source": [
    "## Walktrap Algorithm"
   ]
  },
  {
   "cell_type": "markdown",
   "metadata": {
    "pycharm": {
     "name": "#%% md\n"
    }
   },
   "source": [
    "https://cdlib.readthedocs.io/en/latest/reference/cd_algorithms/algs/cdlib.algorithms.walktrap.html\n",
    "\n",
    "**Idea:** Short-distance random walk tends to stay in the same community."
   ]
  },
  {
   "cell_type": "code",
   "execution_count": null,
   "metadata": {
    "pycharm": {
     "name": "#%%\n"
    }
   },
   "outputs": [],
   "source": [
    "communities_wt = g.community_walktrap()\n",
    "plot(communities_wt, mark_groups = True)"
   ]
  },
  {
   "cell_type": "markdown",
   "metadata": {},
   "source": [
    "## Edge Betweenness Algorithm"
   ]
  },
  {
   "cell_type": "markdown",
   "metadata": {
    "pycharm": {
     "name": "#%% md\n"
    }
   },
   "source": [
    "**Idea:** Detect communities by progressively removing edges with the highest edge\n",
    " betweenness centrality from the original network"
   ]
  },
  {
   "cell_type": "code",
   "execution_count": null,
   "metadata": {
    "pycharm": {
     "name": "#%%\n"
    }
   },
   "outputs": [],
   "source": [
    "communities_eb = sorted(nxcom.girvan_newman(G), key=len, reverse=True)\n",
    "draw_community_graph(G, communities_eb, with_labels=False)\n",
    "print(f'Edge betweenness algorithm resulted in {len(communities_eb)} communities')"
   ]
  },
  {
   "cell_type": "code",
   "execution_count": null,
   "metadata": {
    "pycharm": {
     "name": "#%%\n"
    }
   },
   "outputs": [],
   "source": [
    "plt.figure(figsize=(20, 20))\n",
    "map = Basemap(projection='cyl', resolution=None,\n",
    "              llcrnrlat=-90, urcrnrlat=90,\n",
    "              llcrnrlon=-180, urcrnrlon=180, )\n",
    "\n",
    "pos = {}\n",
    "for n in G.nodes():\n",
    "    x,y = map(G.nodes[n]['Longitude'], G.nodes[n]['Latitude'])\n",
    "    pos[n] = (x,y)\n",
    "\n",
    "# add community attribute\n",
    "for set_idx, frozenset in enumerate(communities_eb):\n",
    "    for node_idx in frozenset:\n",
    "        G.nodes[node_idx]['community'] = set_idx\n",
    "# color mapping\n",
    "color_map = [random_color(G.nodes[v]['community'], memory) for v in G.nodes]\n",
    "# draw map\n",
    "map.shadedrelief()\n",
    "nx.draw_networkx(G, pos=pos, node_size=50, edge_color='r', node_color=color_map,\n",
    "                 arrows=False, with_labels=False, alpha=1, width=00, node_shape='.')\n",
    "plt.title('Air Traffic Communities (Greedy Modularity Algorithm)')\n",
    "plt.savefig('Figures/communities/eba.pdf')\n",
    "plt.show()"
   ]
  },
  {
   "cell_type": "markdown",
   "metadata": {
    "pycharm": {
     "name": "#%% md\n"
    }
   },
   "source": [
    "## Label Propagation Algorithm"
   ]
  },
  {
   "cell_type": "markdown",
   "metadata": {
    "pycharm": {
     "name": "#%% md\n"
    }
   },
   "source": [
    "**Idea:** Assign each node in the network to the community to which belongs the majority\n",
    "of its neighbours."
   ]
  },
  {
   "cell_type": "code",
   "execution_count": null,
   "metadata": {
    "pycharm": {
     "name": "#%%\n"
    }
   },
   "outputs": [],
   "source": [
    "\n",
    "communities_lp = sorted(nxcom.label_propagation_communities(G), key=len, reverse=True)\n",
    "draw_community_graph(G, communities_lp, with_labels=False)\n",
    "print(f'Label propagation algorithm resulted in {len(communities_lp)} communities')"
   ]
  },
  {
   "cell_type": "code",
   "execution_count": null,
   "metadata": {
    "pycharm": {
     "name": "#%%\n"
    }
   },
   "outputs": [],
   "source": [
    "plt.figure(figsize=(20, 20))\n",
    "map = Basemap(projection='cyl', resolution=None,\n",
    "              llcrnrlat=-90, urcrnrlat=90,\n",
    "              llcrnrlon=-180, urcrnrlon=180, )\n",
    "\n",
    "pos = {}\n",
    "for n in G.nodes():\n",
    "    x,y = map(G.nodes[n]['Longitude'], G.nodes[n]['Latitude'])\n",
    "    pos[n] = (x,y)\n",
    "\n",
    "# add community attribute\n",
    "for set_idx, frozenset in enumerate(communities_lp):\n",
    "    for node_idx in frozenset:\n",
    "        G.nodes[node_idx]['community'] = set_idx\n",
    "# color mapping\n",
    "color_map = [random_color(G.nodes[v]['community'], memory) for v in G.nodes]\n",
    "# draw map\n",
    "map.shadedrelief()\n",
    "nx.draw_networkx(G, pos=pos, node_size=50, edge_color='r', node_color=color_map,\n",
    "                 arrows=False, with_labels=False, alpha=1, width=00, node_shape='.')\n",
    "plt.title('Air Traffic Communities (Greedy Modularity Algorithm)')\n",
    "plt.savefig('Figures/communities/lpa.pdf')\n",
    "plt.show()"
   ]
  },
  {
   "cell_type": "markdown",
   "metadata": {
    "pycharm": {
     "name": "#%% md\n"
    }
   },
   "source": [
    "# Simulated annealing (used in reference paper)"
   ]
  },
  {
   "cell_type": "markdown",
   "metadata": {
    "pycharm": {
     "name": "#%% md\n"
    }
   },
   "source": [
    "see:\n",
    "- https://networkx.org/documentation/stable//reference/algorithms/generated/networkx.algorithms.approximation.traveling_salesman.simulated_annealing_tsp.html\n",
    "- https://en.wikipedia.org/wiki/Simulated_annealing"
   ]
  },
  {
   "cell_type": "code",
   "execution_count": null,
   "metadata": {
    "pycharm": {
     "name": "#%%\n"
    }
   },
   "outputs": [],
   "source": [
    "#sim_ann = nxapp.simulated_annealing_tsp(G, init_cycle=\"greedy\")"
   ]
  }
 ],
 "metadata": {
  "kernelspec": {
   "display_name": "Python 3",
   "language": "python",
   "name": "python3"
  },
  "language_info": {
   "codemirror_mode": {
    "name": "ipython",
    "version": 3
   },
   "file_extension": ".py",
   "mimetype": "text/x-python",
   "name": "python",
   "nbconvert_exporter": "python",
   "pygments_lexer": "ipython3",
   "version": "3.8.6"
  }
 },
 "nbformat": 4,
 "nbformat_minor": 1
}
